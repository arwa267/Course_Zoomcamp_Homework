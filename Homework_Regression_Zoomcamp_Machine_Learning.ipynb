{
 "cells": [
  {
   "cell_type": "code",
   "execution_count": 26,
   "id": "4297e8f9",
   "metadata": {},
   "outputs": [],
   "source": [
    "import pandas as pd\n",
    "import numpy as np"
   ]
  },
  {
   "cell_type": "code",
   "execution_count": 27,
   "id": "65eaa65b",
   "metadata": {},
   "outputs": [],
   "source": [
    "#Linear Regression Code From The Lesson wuth a regularization option\n",
    "def train_linear_regression(X, y,r):\n",
    "    ones = np.ones(X.shape[0])\n",
    "    X = np.column_stack([ones, X])\n",
    "\n",
    "    XTX = X.T.dot(X)\n",
    "    XTX = XTX + r * np.eye(XTX.shape[0])\n",
    "    XTX_inv = np.linalg.inv(XTX)\n",
    "    w_full = XTX_inv.dot(X.T).dot(y)\n",
    "    \n",
    "    return w_full[0], w_full[1:]"
   ]
  },
  {
   "cell_type": "code",
   "execution_count": 28,
   "id": "b39d0d15",
   "metadata": {},
   "outputs": [],
   "source": [
    "#function taken from the lecture to compute the MSE error\n",
    "def rmse(y, y_pred):\n",
    "    se = (y - y_pred) ** 2\n",
    "    mse = se.mean()\n",
    "    return np.sqrt(mse)"
   ]
  },
  {
   "cell_type": "code",
   "execution_count": 29,
   "id": "23e0ed4f",
   "metadata": {},
   "outputs": [
    {
     "data": {
      "text/html": [
       "<div>\n",
       "<style scoped>\n",
       "    .dataframe tbody tr th:only-of-type {\n",
       "        vertical-align: middle;\n",
       "    }\n",
       "\n",
       "    .dataframe tbody tr th {\n",
       "        vertical-align: top;\n",
       "    }\n",
       "\n",
       "    .dataframe thead th {\n",
       "        text-align: right;\n",
       "    }\n",
       "</style>\n",
       "<table border=\"1\" class=\"dataframe\">\n",
       "  <thead>\n",
       "    <tr style=\"text-align: right;\">\n",
       "      <th></th>\n",
       "      <th>longitude</th>\n",
       "      <th>latitude</th>\n",
       "      <th>housing_median_age</th>\n",
       "      <th>total_rooms</th>\n",
       "      <th>total_bedrooms</th>\n",
       "      <th>population</th>\n",
       "      <th>households</th>\n",
       "      <th>median_income</th>\n",
       "      <th>median_house_value</th>\n",
       "      <th>ocean_proximity</th>\n",
       "    </tr>\n",
       "  </thead>\n",
       "  <tbody>\n",
       "    <tr>\n",
       "      <th>0</th>\n",
       "      <td>-122.23</td>\n",
       "      <td>37.88</td>\n",
       "      <td>41.0</td>\n",
       "      <td>880.0</td>\n",
       "      <td>129.0</td>\n",
       "      <td>322.0</td>\n",
       "      <td>126.0</td>\n",
       "      <td>8.3252</td>\n",
       "      <td>452600.0</td>\n",
       "      <td>NEAR BAY</td>\n",
       "    </tr>\n",
       "    <tr>\n",
       "      <th>1</th>\n",
       "      <td>-122.22</td>\n",
       "      <td>37.86</td>\n",
       "      <td>21.0</td>\n",
       "      <td>7099.0</td>\n",
       "      <td>1106.0</td>\n",
       "      <td>2401.0</td>\n",
       "      <td>1138.0</td>\n",
       "      <td>8.3014</td>\n",
       "      <td>358500.0</td>\n",
       "      <td>NEAR BAY</td>\n",
       "    </tr>\n",
       "    <tr>\n",
       "      <th>2</th>\n",
       "      <td>-122.24</td>\n",
       "      <td>37.85</td>\n",
       "      <td>52.0</td>\n",
       "      <td>1467.0</td>\n",
       "      <td>190.0</td>\n",
       "      <td>496.0</td>\n",
       "      <td>177.0</td>\n",
       "      <td>7.2574</td>\n",
       "      <td>352100.0</td>\n",
       "      <td>NEAR BAY</td>\n",
       "    </tr>\n",
       "    <tr>\n",
       "      <th>3</th>\n",
       "      <td>-122.25</td>\n",
       "      <td>37.85</td>\n",
       "      <td>52.0</td>\n",
       "      <td>1274.0</td>\n",
       "      <td>235.0</td>\n",
       "      <td>558.0</td>\n",
       "      <td>219.0</td>\n",
       "      <td>5.6431</td>\n",
       "      <td>341300.0</td>\n",
       "      <td>NEAR BAY</td>\n",
       "    </tr>\n",
       "    <tr>\n",
       "      <th>4</th>\n",
       "      <td>-122.25</td>\n",
       "      <td>37.85</td>\n",
       "      <td>52.0</td>\n",
       "      <td>1627.0</td>\n",
       "      <td>280.0</td>\n",
       "      <td>565.0</td>\n",
       "      <td>259.0</td>\n",
       "      <td>3.8462</td>\n",
       "      <td>342200.0</td>\n",
       "      <td>NEAR BAY</td>\n",
       "    </tr>\n",
       "  </tbody>\n",
       "</table>\n",
       "</div>"
      ],
      "text/plain": [
       "   longitude  latitude  housing_median_age  total_rooms  total_bedrooms  \\\n",
       "0    -122.23     37.88                41.0        880.0           129.0   \n",
       "1    -122.22     37.86                21.0       7099.0          1106.0   \n",
       "2    -122.24     37.85                52.0       1467.0           190.0   \n",
       "3    -122.25     37.85                52.0       1274.0           235.0   \n",
       "4    -122.25     37.85                52.0       1627.0           280.0   \n",
       "\n",
       "   population  households  median_income  median_house_value ocean_proximity  \n",
       "0       322.0       126.0         8.3252            452600.0        NEAR BAY  \n",
       "1      2401.0      1138.0         8.3014            358500.0        NEAR BAY  \n",
       "2       496.0       177.0         7.2574            352100.0        NEAR BAY  \n",
       "3       558.0       219.0         5.6431            341300.0        NEAR BAY  \n",
       "4       565.0       259.0         3.8462            342200.0        NEAR BAY  "
      ]
     },
     "execution_count": 29,
     "metadata": {},
     "output_type": "execute_result"
    }
   ],
   "source": [
    "#Reading the Dataset\n",
    "data_frame=pd.read_csv(\"housing.csv\")\n",
    "data_frame.head()"
   ]
  },
  {
   "cell_type": "code",
   "execution_count": 30,
   "id": "b1492b71",
   "metadata": {},
   "outputs": [],
   "source": [
    "#keeping only the relevant columns\n",
    "df=data_frame[['latitude','longitude','housing_median_age','total_rooms','total_bedrooms','population','households','median_income','median_house_value']]"
   ]
  },
  {
   "cell_type": "code",
   "execution_count": 31,
   "id": "583a7897",
   "metadata": {},
   "outputs": [
    {
     "data": {
      "text/plain": [
       "latitude                0\n",
       "longitude               0\n",
       "housing_median_age      0\n",
       "total_rooms             0\n",
       "total_bedrooms        207\n",
       "population              0\n",
       "households              0\n",
       "median_income           0\n",
       "median_house_value      0\n",
       "dtype: int64"
      ]
     },
     "execution_count": 31,
     "metadata": {},
     "output_type": "execute_result"
    }
   ],
   "source": [
    "#Checking null values\n",
    "df.isnull().sum()"
   ]
  },
  {
   "cell_type": "code",
   "execution_count": 32,
   "id": "80c5a278",
   "metadata": {},
   "outputs": [
    {
     "name": "stdout",
     "output_type": "stream",
     "text": [
      "The median for population is  1166.0\n"
     ]
    }
   ],
   "source": [
    "#Calculating the median value for population\n",
    "print(\"The median for population is \"  , df['population'].median())"
   ]
  },
  {
   "cell_type": "code",
   "execution_count": 33,
   "id": "bfe02205",
   "metadata": {},
   "outputs": [],
   "source": [
    "#Shuffling the data and fixing the seed\n",
    "index=np.arange(len(df))\n",
    "np.random.seed(42)\n",
    "np.random.shuffle(index)"
   ]
  },
  {
   "cell_type": "code",
   "execution_count": 34,
   "id": "a4564674",
   "metadata": {},
   "outputs": [],
   "source": [
    "#Spliting the data into training, validation and testing\n",
    "n_val = int(len(df) * 0.2)\n",
    "n_test = int(len(df) * 0.2)\n",
    "n_train = len(df) - n_val - n_test\n",
    "train_data=df.iloc[index[:n_train]]\n",
    "val_data=df.iloc[index[n_train:n_train+n_val]]\n",
    "test_data=df.iloc[index[n_train+n_val:]]\n"
   ]
  },
  {
   "cell_type": "code",
   "execution_count": 35,
   "id": "7dacdd9c",
   "metadata": {},
   "outputs": [],
   "source": [
    "#Apply log transformation to the Median House Value and assigining it as Y then dropping it from the datafarmes\n",
    "y_train = np.log1p(train_data['median_house_value'])\n",
    "y_val = np.log1p(val_data['median_house_value'])\n",
    "y_test = np.log1p(test_data['median_house_value'])\n",
    "del train_data['median_house_value']\n",
    "del val_data['median_house_value']\n",
    "del test_data['median_house_value']"
   ]
  },
  {
   "cell_type": "code",
   "execution_count": 36,
   "id": "92fafb82",
   "metadata": {},
   "outputs": [],
   "source": [
    "#Let's try the first filling Nan with zeros\n",
    "train_data =train_data.fillna(0)\n",
    "#Apply Linear Regression\n",
    "w0, w = train_linear_regression(train_data, y_train,0)"
   ]
  },
  {
   "cell_type": "code",
   "execution_count": 37,
   "id": "23a0b2e0",
   "metadata": {},
   "outputs": [],
   "source": [
    "#Let's calculate the RMSE for validation data, fill first the Nan values with zeros and then fitting for prediction,then \n",
    "#calculating the rounded validation error\n",
    "val_data =val_data.fillna(0)\n",
    "Ypred_val= w0 + val_data.dot(w)\n",
    "valid_error_zero=round(rmse(y_val,Ypred_val),2)\n",
    "\n"
   ]
  },
  {
   "cell_type": "code",
   "execution_count": 38,
   "id": "7cf5c4a1",
   "metadata": {},
   "outputs": [],
   "source": [
    "#Let's now repeat the procedure again to replace instead of zeros average values of the training data\n",
    "train_data=df.iloc[index[:n_train]]\n",
    "val_data=df.iloc[index[n_val:n_train+n_val]]\n",
    "test_data=df.iloc[index[n_train+n_val:]]\n",
    "y_train = np.log1p(train_data['median_house_value'])\n",
    "y_val = np.log1p(val_data['median_house_value'])\n",
    "y_test = np.log1p(test_data['median_house_value'])\n",
    "del train_data['median_house_value']\n",
    "del val_data['median_house_value']\n",
    "del test_data['median_house_value']\n"
   ]
  },
  {
   "cell_type": "code",
   "execution_count": 39,
   "id": "6695cdcc",
   "metadata": {},
   "outputs": [],
   "source": [
    "#calculate the mean of the training value\n",
    "##Now let's do the linear regression part and calculate the validation error and compare with the first approach\n",
    "\n",
    "mean_train=train_data['total_bedrooms'].mean()\n",
    "train_data =train_data.fillna(mean_train)\n",
    "w0, w = train_linear_regression(train_data, y_train,0)\n",
    "val_data =val_data.fillna(mean_train)\n",
    "Ypred_val= w0 + val_data.dot(w)\n",
    "valid_error_average=round(rmse(y_val,Ypred_val),2)\n",
    "\n"
   ]
  },
  {
   "cell_type": "code",
   "execution_count": 40,
   "id": "4e6897ef",
   "metadata": {},
   "outputs": [
    {
     "name": "stdout",
     "output_type": "stream",
     "text": [
      "Validation error with replacing Nan with zeros is 0.33\n",
      "Validation error with replacing Nan with average is 0.33\n"
     ]
    }
   ],
   "source": [
    "print(\"Validation error with replacing Nan with zeros is\", valid_error_zero)\n",
    "print(\"Validation error with replacing Nan with average is\", valid_error_average)\n"
   ]
  },
  {
   "cell_type": "code",
   "execution_count": 41,
   "id": "f5d89640",
   "metadata": {},
   "outputs": [],
   "source": [
    "#As it can be seen,  the values of the errors are equal to the second decimal digit"
   ]
  },
  {
   "cell_type": "code",
   "execution_count": 42,
   "id": "b053b9d9",
   "metadata": {},
   "outputs": [],
   "source": [
    "#Question 4\n",
    "#let us now try playing with the tuning parameter r\n",
    "R=np.array([0, 0.000001, 0.0001, 0.001, 0.01, 0.1, 1, 5, 10])\n",
    "#This is for holding the error\n",
    "RMSEr=np.zeros((len(R)))\n",
    "\n",
    "#Again let us split the data into training validation and testing \n",
    "train_data=df.iloc[index[:n_train]]\n",
    "val_data=df.iloc[index[n_train:n_train+n_val]]\n",
    "test_data=df.iloc[index[n_train+n_val:]]\n",
    "y_train = np.log1p(train_data['median_house_value'])\n",
    "y_val = np.log1p(val_data['median_house_value'])\n",
    "y_test = np.log1p(test_data['median_house_value'])\n",
    "del train_data['median_house_value']\n",
    "del val_data['median_house_value']\n",
    "del test_data['median_house_value']\n",
    "train_data =train_data.fillna(0)\n",
    "val_data =val_data.fillna(0)\n"
   ]
  },
  {
   "cell_type": "code",
   "execution_count": 43,
   "id": "8c6c4461",
   "metadata": {},
   "outputs": [],
   "source": [
    "\n",
    "#looping over every r and calculating the RMSE Error to a second decimal digit\n",
    "for i in range(len(R)):\n",
    "    w0, w = train_linear_regression(train_data, y_train,R[i])\n",
    "    Ypred_val= w0 + val_data.dot(w)\n",
    "    RMSEr[i]=round(rmse(y_val,Ypred_val),2)\n"
   ]
  },
  {
   "cell_type": "code",
   "execution_count": 70,
   "id": "b85baf17",
   "metadata": {},
   "outputs": [
    {
     "data": {
      "text/plain": [
       "array([0.33, 0.33, 0.33, 0.33, 0.33, 0.33, 0.33, 0.34, 0.34])"
      ]
     },
     "execution_count": 70,
     "metadata": {},
     "output_type": "execute_result"
    }
   ],
   "source": [
    "RMSEr"
   ]
  },
  {
   "cell_type": "code",
   "execution_count": 44,
   "id": "e427240c",
   "metadata": {},
   "outputs": [
    {
     "name": "stdout",
     "output_type": "stream",
     "text": [
      "The r with minimum RMSE is [0.e+00 1.e-06 1.e-04 1.e-03 1.e-02 1.e-01 1.e+00]\n"
     ]
    }
   ],
   "source": [
    "#calculating the values with minimum error\n",
    "ind=np.where(RMSEr == np.amin(RMSEr))\n",
    "print(\"The r with minimum RMSE is\", R[ind])"
   ]
  },
  {
   "cell_type": "code",
   "execution_count": 45,
   "id": "718f4605",
   "metadata": {},
   "outputs": [],
   "source": [
    "#The smallest r is zero"
   ]
  },
  {
   "cell_type": "code",
   "execution_count": 46,
   "id": "6e3e57ee",
   "metadata": {},
   "outputs": [],
   "source": [
    "#Varying the Seed\n",
    "seed=np.array([0, 1, 2, 3, 4, 5, 6, 7, 8, 9])\n",
    "RMSEs=np.zeros((len(seed)))"
   ]
  },
  {
   "cell_type": "code",
   "execution_count": 47,
   "id": "3f54799e",
   "metadata": {},
   "outputs": [],
   "source": [
    "for i in range(len(seed)):\n",
    "    index=np.arange(len(df))\n",
    "    #change the seed\n",
    "    np.random.seed(seed[i])\n",
    "    np.random.shuffle(index)\n",
    "    #splitting into training and valuidation\n",
    "    train_data=df.iloc[index[:n_train]]\n",
    "    val_data=df.iloc[index[n_train:n_train+n_val]]\n",
    "    test_data=df.iloc[index[n_train+n_val:]]\n",
    "    y_train = np.log1p(train_data['median_house_value'])\n",
    "    y_val = np.log1p(val_data['median_house_value'])\n",
    "    y_test = np.log1p(test_data['median_house_value'])\n",
    "    del train_data['median_house_value']\n",
    "    del val_data['median_house_value']\n",
    "    del test_data['median_house_value']\n",
    "    train_data=train_data.fillna(0)\n",
    "    val_data=val_data.fillna(0)\n",
    "    test_data=test_data.fillna(0)\n",
    "    #apply linear regression\n",
    "    w0, w = train_linear_regression(train_data, y_train,0)\n",
    "    Ypred_val= w0 + val_data.dot(w)\n",
    "    #calculate RMSE\n",
    "    RMSEs[i]=round(rmse(y_val,Ypred_val),2)\n",
    "    \n",
    "\n",
    "    \n",
    "    "
   ]
  },
  {
   "cell_type": "code",
   "execution_count": 48,
   "id": "4b725ba4",
   "metadata": {},
   "outputs": [],
   "source": [
    "#calculating standard deviation\n",
    "Standard_deviation=round(np.std(RMSEs),3)"
   ]
  },
  {
   "cell_type": "code",
   "execution_count": 49,
   "id": "a1dd5495",
   "metadata": {},
   "outputs": [
    {
     "data": {
      "text/plain": [
       "0.005"
      ]
     },
     "execution_count": 49,
     "metadata": {},
     "output_type": "execute_result"
    }
   ],
   "source": [
    "Standard_deviation"
   ]
  },
  {
   "cell_type": "code",
   "execution_count": 50,
   "id": "56cda55b",
   "metadata": {},
   "outputs": [],
   "source": [
    "#Question 6\n",
    "np.random.seed(9)\n",
    "#spliting the training and testing\n",
    "np.random.shuffle(index)\n",
    "train_data=df.iloc[index[:n_train]]\n",
    "val_data=df.iloc[index[n_train:n_train+n_val]]\n",
    "test_data=df.iloc[index[n_train+n_val:]]\n",
    "y_train = np.log1p(train_data['median_house_value'])\n",
    "y_val = np.log1p(val_data['median_house_value'])\n",
    "y_test = np.log1p(test_data['median_house_value'])\n",
    "del train_data['median_house_value']\n",
    "del val_data['median_house_value']\n",
    "del test_data['median_house_value']"
   ]
  },
  {
   "cell_type": "code",
   "execution_count": 51,
   "id": "a408d6d3",
   "metadata": {},
   "outputs": [],
   "source": [
    "#Merge Validation and Training Data sets\n",
    "Total_train= train_data.append(val_data)\n",
    "Total_train=Total_train.fillna(0)\n",
    "Y_train_total=np.concatenate((y_train,y_val),axis=0)\n"
   ]
  },
  {
   "cell_type": "code",
   "execution_count": 52,
   "id": "5b87108d",
   "metadata": {},
   "outputs": [],
   "source": [
    "#learning the coefficinets and calculate the testing error\n",
    "w0, w = train_linear_regression(Total_train, Y_train_total,0.001)\n",
    "test_data=test_data.fillna(0)\n",
    "Y_test= w0 + test_data.dot(w)\n",
    "Testing_error=round(rmse(y_test,Y_test),2)"
   ]
  },
  {
   "cell_type": "code",
   "execution_count": 53,
   "id": "f9b33d23",
   "metadata": {},
   "outputs": [
    {
     "name": "stdout",
     "output_type": "stream",
     "text": [
      "0.35\n"
     ]
    }
   ],
   "source": [
    "print(Testing_error)"
   ]
  },
  {
   "cell_type": "code",
   "execution_count": null,
   "id": "c7051b6a",
   "metadata": {},
   "outputs": [],
   "source": []
  }
 ],
 "metadata": {
  "kernelspec": {
   "display_name": "Python 3",
   "language": "python",
   "name": "python3"
  },
  "language_info": {
   "codemirror_mode": {
    "name": "ipython",
    "version": 3
   },
   "file_extension": ".py",
   "mimetype": "text/x-python",
   "name": "python",
   "nbconvert_exporter": "python",
   "pygments_lexer": "ipython3",
   "version": "3.9.7"
  }
 },
 "nbformat": 4,
 "nbformat_minor": 5
}
