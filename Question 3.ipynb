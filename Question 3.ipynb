{
 "cells": [
  {
   "cell_type": "code",
   "execution_count": 3,
   "id": "aff433b8",
   "metadata": {},
   "outputs": [],
   "source": [
    "import pickle"
   ]
  },
  {
   "cell_type": "code",
   "execution_count": 4,
   "id": "e66ed3f5",
   "metadata": {},
   "outputs": [],
   "source": [
    "file_model=\"model1.bin\"\n",
    "file_dv=\"dv.bin\""
   ]
  },
  {
   "cell_type": "code",
   "execution_count": 5,
   "id": "35a99355",
   "metadata": {},
   "outputs": [
    {
     "name": "stderr",
     "output_type": "stream",
     "text": [
      "C:\\Users\\user\\Anaconda3\\lib\\site-packages\\sklearn\\base.py:310: UserWarning: Trying to unpickle estimator LogisticRegression from version 1.0.2 when using version 0.24.1. This might lead to breaking code or invalid results. Use at your own risk.\n",
      "  warnings.warn(\n"
     ]
    }
   ],
   "source": [
    "with open(file_model,'rb') as f_in:\n",
    "    model=pickle.load(f_in)"
   ]
  },
  {
   "cell_type": "code",
   "execution_count": 6,
   "id": "b8e026b4",
   "metadata": {},
   "outputs": [
    {
     "name": "stderr",
     "output_type": "stream",
     "text": [
      "C:\\Users\\user\\Anaconda3\\lib\\site-packages\\sklearn\\base.py:310: UserWarning: Trying to unpickle estimator DictVectorizer from version 1.0.2 when using version 0.24.1. This might lead to breaking code or invalid results. Use at your own risk.\n",
      "  warnings.warn(\n"
     ]
    }
   ],
   "source": [
    "with open(file_dv,'rb') as f_in:\n",
    "    dv=pickle.load(f_in)"
   ]
  },
  {
   "cell_type": "code",
   "execution_count": 7,
   "id": "f43c174c",
   "metadata": {},
   "outputs": [],
   "source": [
    "client={\"reports\": 0, \"share\": 0.001694, \"expenditure\": 0.12, \"owner\": \"yes\"}"
   ]
  },
  {
   "cell_type": "code",
   "execution_count": 8,
   "id": "dfab4da9",
   "metadata": {},
   "outputs": [],
   "source": [
    "X=dv.transform([client])"
   ]
  },
  {
   "cell_type": "code",
   "execution_count": 9,
   "id": "0ca7ec9a",
   "metadata": {},
   "outputs": [],
   "source": [
    "prob=model.predict_proba(X)[0,1]"
   ]
  },
  {
   "cell_type": "code",
   "execution_count": 10,
   "id": "183d513a",
   "metadata": {},
   "outputs": [
    {
     "name": "stdout",
     "output_type": "stream",
     "text": [
      "for Client {'reports': 0, 'share': 0.001694, 'expenditure': 0.12, 'owner': 'yes'}\n",
      "Probability 0.16213414434326598\n"
     ]
    }
   ],
   "source": [
    "print(\"for Client\",client)\n",
    "print(\"Probability\",prob)"
   ]
  },
  {
   "cell_type": "code",
   "execution_count": null,
   "id": "e13e8b6b",
   "metadata": {},
   "outputs": [],
   "source": []
  }
 ],
 "metadata": {
  "kernelspec": {
   "display_name": "Python 3",
   "language": "python",
   "name": "python3"
  },
  "language_info": {
   "codemirror_mode": {
    "name": "ipython",
    "version": 3
   },
   "file_extension": ".py",
   "mimetype": "text/x-python",
   "name": "python",
   "nbconvert_exporter": "python",
   "pygments_lexer": "ipython3",
   "version": "3.9.7"
  }
 },
 "nbformat": 4,
 "nbformat_minor": 5
}
