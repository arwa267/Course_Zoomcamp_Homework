{
 "cells": [
  {
   "cell_type": "code",
   "execution_count": 98,
   "id": "d0ddddde",
   "metadata": {},
   "outputs": [],
   "source": [
    "#Loading the Inportant Libraries\n",
    "import pandas as pd\n",
    "import numpy as np\n",
    "import sklearn\n",
    "from matplotlib import pyplot as plt\n",
    "from sklearn.model_selection import train_test_split\n",
    "import seaborn as sns\n",
    "from sklearn.metrics import mutual_info_score\n",
    "from sklearn.linear_model import LogisticRegression\n",
    "from sklearn.tree import DecisionTreeClassifier\n",
    "from sklearn.ensemble import RandomForestClassifier\n",
    "\n",
    "from sklearn.feature_extraction import DictVectorizer\n",
    "from sklearn.metrics import roc_auc_score\n",
    "from tqdm.auto import tqdm\n"
   ]
  },
  {
   "cell_type": "markdown",
   "id": "eb165216",
   "metadata": {},
   "source": [
    "# Loading the Data Set and Checking For NULL Values"
   ]
  },
  {
   "cell_type": "code",
   "execution_count": 99,
   "id": "96810c81",
   "metadata": {},
   "outputs": [],
   "source": [
    "df=pd.read_csv(\"potability_of_water.csv\")"
   ]
  },
  {
   "cell_type": "code",
   "execution_count": 100,
   "id": "c366bb87",
   "metadata": {},
   "outputs": [
    {
     "data": {
      "text/html": [
       "<div>\n",
       "<style scoped>\n",
       "    .dataframe tbody tr th:only-of-type {\n",
       "        vertical-align: middle;\n",
       "    }\n",
       "\n",
       "    .dataframe tbody tr th {\n",
       "        vertical-align: top;\n",
       "    }\n",
       "\n",
       "    .dataframe thead th {\n",
       "        text-align: right;\n",
       "    }\n",
       "</style>\n",
       "<table border=\"1\" class=\"dataframe\">\n",
       "  <thead>\n",
       "    <tr style=\"text-align: right;\">\n",
       "      <th></th>\n",
       "      <th>ph</th>\n",
       "      <th>Hardness</th>\n",
       "      <th>Solids</th>\n",
       "      <th>Chloramines</th>\n",
       "      <th>Sulfate</th>\n",
       "      <th>Conductivity</th>\n",
       "      <th>Organic_carbon</th>\n",
       "      <th>Trihalomethanes</th>\n",
       "      <th>Turbidity</th>\n",
       "      <th>Potability</th>\n",
       "    </tr>\n",
       "  </thead>\n",
       "  <tbody>\n",
       "    <tr>\n",
       "      <th>0</th>\n",
       "      <td>7.080795</td>\n",
       "      <td>219.674262</td>\n",
       "      <td>22210.61308</td>\n",
       "      <td>5.875041</td>\n",
       "      <td>333.775777</td>\n",
       "      <td>398.517703</td>\n",
       "      <td>11.502316</td>\n",
       "      <td>112.412210</td>\n",
       "      <td>2.994259</td>\n",
       "      <td>0</td>\n",
       "    </tr>\n",
       "    <tr>\n",
       "      <th>1</th>\n",
       "      <td>6.783888</td>\n",
       "      <td>193.653581</td>\n",
       "      <td>13677.10644</td>\n",
       "      <td>5.171454</td>\n",
       "      <td>323.728663</td>\n",
       "      <td>477.854687</td>\n",
       "      <td>15.056064</td>\n",
       "      <td>66.396293</td>\n",
       "      <td>3.250022</td>\n",
       "      <td>0</td>\n",
       "    </tr>\n",
       "    <tr>\n",
       "      <th>2</th>\n",
       "      <td>6.010618</td>\n",
       "      <td>184.558582</td>\n",
       "      <td>15940.57327</td>\n",
       "      <td>8.165222</td>\n",
       "      <td>421.486089</td>\n",
       "      <td>314.529813</td>\n",
       "      <td>20.314617</td>\n",
       "      <td>83.707938</td>\n",
       "      <td>4.867287</td>\n",
       "      <td>1</td>\n",
       "    </tr>\n",
       "    <tr>\n",
       "      <th>3</th>\n",
       "      <td>8.097454</td>\n",
       "      <td>218.992436</td>\n",
       "      <td>18112.28445</td>\n",
       "      <td>6.196947</td>\n",
       "      <td>333.775777</td>\n",
       "      <td>376.569803</td>\n",
       "      <td>17.746264</td>\n",
       "      <td>59.909941</td>\n",
       "      <td>4.279082</td>\n",
       "      <td>1</td>\n",
       "    </tr>\n",
       "    <tr>\n",
       "      <th>4</th>\n",
       "      <td>8.072612</td>\n",
       "      <td>210.269780</td>\n",
       "      <td>16843.36393</td>\n",
       "      <td>8.793459</td>\n",
       "      <td>359.516169</td>\n",
       "      <td>559.167574</td>\n",
       "      <td>17.263576</td>\n",
       "      <td>68.738989</td>\n",
       "      <td>5.082206</td>\n",
       "      <td>0</td>\n",
       "    </tr>\n",
       "  </tbody>\n",
       "</table>\n",
       "</div>"
      ],
      "text/plain": [
       "         ph    Hardness       Solids  Chloramines     Sulfate  Conductivity  \\\n",
       "0  7.080795  219.674262  22210.61308     5.875041  333.775777    398.517703   \n",
       "1  6.783888  193.653581  13677.10644     5.171454  323.728663    477.854687   \n",
       "2  6.010618  184.558582  15940.57327     8.165222  421.486089    314.529813   \n",
       "3  8.097454  218.992436  18112.28445     6.196947  333.775777    376.569803   \n",
       "4  8.072612  210.269780  16843.36393     8.793459  359.516169    559.167574   \n",
       "\n",
       "   Organic_carbon  Trihalomethanes  Turbidity  Potability  \n",
       "0       11.502316       112.412210   2.994259           0  \n",
       "1       15.056064        66.396293   3.250022           0  \n",
       "2       20.314617        83.707938   4.867287           1  \n",
       "3       17.746264        59.909941   4.279082           1  \n",
       "4       17.263576        68.738989   5.082206           0  "
      ]
     },
     "execution_count": 100,
     "metadata": {},
     "output_type": "execute_result"
    }
   ],
   "source": [
    "df.head()"
   ]
  },
  {
   "cell_type": "code",
   "execution_count": 101,
   "id": "9927ae09",
   "metadata": {},
   "outputs": [
    {
     "name": "stdout",
     "output_type": "stream",
     "text": [
      "<class 'pandas.core.frame.DataFrame'>\n",
      "RangeIndex: 2293 entries, 0 to 2292\n",
      "Data columns (total 10 columns):\n",
      " #   Column           Non-Null Count  Dtype  \n",
      "---  ------           --------------  -----  \n",
      " 0   ph               2293 non-null   float64\n",
      " 1   Hardness         2293 non-null   float64\n",
      " 2   Solids           2293 non-null   float64\n",
      " 3   Chloramines      2293 non-null   float64\n",
      " 4   Sulfate          2293 non-null   float64\n",
      " 5   Conductivity     2293 non-null   float64\n",
      " 6   Organic_carbon   2293 non-null   float64\n",
      " 7   Trihalomethanes  2293 non-null   float64\n",
      " 8   Turbidity        2293 non-null   float64\n",
      " 9   Potability       2293 non-null   int64  \n",
      "dtypes: float64(9), int64(1)\n",
      "memory usage: 179.3 KB\n"
     ]
    }
   ],
   "source": [
    "df.info()"
   ]
  },
  {
   "cell_type": "code",
   "execution_count": 102,
   "id": "fe0571b9",
   "metadata": {},
   "outputs": [
    {
     "data": {
      "text/html": [
       "<div>\n",
       "<style scoped>\n",
       "    .dataframe tbody tr th:only-of-type {\n",
       "        vertical-align: middle;\n",
       "    }\n",
       "\n",
       "    .dataframe tbody tr th {\n",
       "        vertical-align: top;\n",
       "    }\n",
       "\n",
       "    .dataframe thead th {\n",
       "        text-align: right;\n",
       "    }\n",
       "</style>\n",
       "<table border=\"1\" class=\"dataframe\">\n",
       "  <thead>\n",
       "    <tr style=\"text-align: right;\">\n",
       "      <th></th>\n",
       "      <th>ph</th>\n",
       "      <th>Hardness</th>\n",
       "      <th>Solids</th>\n",
       "      <th>Chloramines</th>\n",
       "      <th>Sulfate</th>\n",
       "      <th>Conductivity</th>\n",
       "      <th>Organic_carbon</th>\n",
       "      <th>Trihalomethanes</th>\n",
       "      <th>Turbidity</th>\n",
       "      <th>Potability</th>\n",
       "    </tr>\n",
       "  </thead>\n",
       "  <tbody>\n",
       "    <tr>\n",
       "      <th>count</th>\n",
       "      <td>2293.000000</td>\n",
       "      <td>2293.000000</td>\n",
       "      <td>2293.000000</td>\n",
       "      <td>2293.000000</td>\n",
       "      <td>2293.000000</td>\n",
       "      <td>2293.000000</td>\n",
       "      <td>2293.000000</td>\n",
       "      <td>2293.000000</td>\n",
       "      <td>2293.000000</td>\n",
       "      <td>2293.000000</td>\n",
       "    </tr>\n",
       "    <tr>\n",
       "      <th>mean</th>\n",
       "      <td>7.082265</td>\n",
       "      <td>196.390335</td>\n",
       "      <td>22074.335334</td>\n",
       "      <td>7.132987</td>\n",
       "      <td>333.393347</td>\n",
       "      <td>425.455702</td>\n",
       "      <td>14.229174</td>\n",
       "      <td>66.499518</td>\n",
       "      <td>3.967153</td>\n",
       "      <td>0.390318</td>\n",
       "    </tr>\n",
       "    <tr>\n",
       "      <th>std</th>\n",
       "      <td>1.486029</td>\n",
       "      <td>32.460633</td>\n",
       "      <td>8668.693908</td>\n",
       "      <td>1.573879</td>\n",
       "      <td>36.116271</td>\n",
       "      <td>80.266652</td>\n",
       "      <td>3.341429</td>\n",
       "      <td>16.067742</td>\n",
       "      <td>0.788480</td>\n",
       "      <td>0.487928</td>\n",
       "    </tr>\n",
       "    <tr>\n",
       "      <th>min</th>\n",
       "      <td>0.000000</td>\n",
       "      <td>47.432000</td>\n",
       "      <td>320.942611</td>\n",
       "      <td>0.530351</td>\n",
       "      <td>180.206746</td>\n",
       "      <td>201.619737</td>\n",
       "      <td>2.200000</td>\n",
       "      <td>0.738000</td>\n",
       "      <td>1.450000</td>\n",
       "      <td>0.000000</td>\n",
       "    </tr>\n",
       "    <tr>\n",
       "      <th>25%</th>\n",
       "      <td>6.262799</td>\n",
       "      <td>176.753500</td>\n",
       "      <td>15825.182570</td>\n",
       "      <td>6.140033</td>\n",
       "      <td>316.552791</td>\n",
       "      <td>363.974060</td>\n",
       "      <td>12.015868</td>\n",
       "      <td>56.329076</td>\n",
       "      <td>3.440753</td>\n",
       "      <td>0.000000</td>\n",
       "    </tr>\n",
       "    <tr>\n",
       "      <th>50%</th>\n",
       "      <td>7.080795</td>\n",
       "      <td>196.833001</td>\n",
       "      <td>21153.322830</td>\n",
       "      <td>7.135063</td>\n",
       "      <td>333.775777</td>\n",
       "      <td>420.828362</td>\n",
       "      <td>14.151538</td>\n",
       "      <td>66.396293</td>\n",
       "      <td>3.947138</td>\n",
       "      <td>0.000000</td>\n",
       "    </tr>\n",
       "    <tr>\n",
       "      <th>75%</th>\n",
       "      <td>7.873272</td>\n",
       "      <td>216.441171</td>\n",
       "      <td>27345.174290</td>\n",
       "      <td>8.104498</td>\n",
       "      <td>349.985243</td>\n",
       "      <td>480.715208</td>\n",
       "      <td>16.450990</td>\n",
       "      <td>77.182622</td>\n",
       "      <td>4.503661</td>\n",
       "      <td>1.000000</td>\n",
       "    </tr>\n",
       "    <tr>\n",
       "      <th>max</th>\n",
       "      <td>14.000000</td>\n",
       "      <td>317.338124</td>\n",
       "      <td>56351.396300</td>\n",
       "      <td>13.043806</td>\n",
       "      <td>481.030642</td>\n",
       "      <td>753.342620</td>\n",
       "      <td>28.300000</td>\n",
       "      <td>124.000000</td>\n",
       "      <td>6.739000</td>\n",
       "      <td>1.000000</td>\n",
       "    </tr>\n",
       "  </tbody>\n",
       "</table>\n",
       "</div>"
      ],
      "text/plain": [
       "                ph     Hardness        Solids  Chloramines      Sulfate  \\\n",
       "count  2293.000000  2293.000000   2293.000000  2293.000000  2293.000000   \n",
       "mean      7.082265   196.390335  22074.335334     7.132987   333.393347   \n",
       "std       1.486029    32.460633   8668.693908     1.573879    36.116271   \n",
       "min       0.000000    47.432000    320.942611     0.530351   180.206746   \n",
       "25%       6.262799   176.753500  15825.182570     6.140033   316.552791   \n",
       "50%       7.080795   196.833001  21153.322830     7.135063   333.775777   \n",
       "75%       7.873272   216.441171  27345.174290     8.104498   349.985243   \n",
       "max      14.000000   317.338124  56351.396300    13.043806   481.030642   \n",
       "\n",
       "       Conductivity  Organic_carbon  Trihalomethanes    Turbidity   Potability  \n",
       "count   2293.000000     2293.000000      2293.000000  2293.000000  2293.000000  \n",
       "mean     425.455702       14.229174        66.499518     3.967153     0.390318  \n",
       "std       80.266652        3.341429        16.067742     0.788480     0.487928  \n",
       "min      201.619737        2.200000         0.738000     1.450000     0.000000  \n",
       "25%      363.974060       12.015868        56.329076     3.440753     0.000000  \n",
       "50%      420.828362       14.151538        66.396293     3.947138     0.000000  \n",
       "75%      480.715208       16.450990        77.182622     4.503661     1.000000  \n",
       "max      753.342620       28.300000       124.000000     6.739000     1.000000  "
      ]
     },
     "execution_count": 102,
     "metadata": {},
     "output_type": "execute_result"
    }
   ],
   "source": [
    "df.describe()"
   ]
  },
  {
   "cell_type": "code",
   "execution_count": 138,
   "id": "55916591",
   "metadata": {},
   "outputs": [
    {
     "data": {
      "text/plain": [
       "ph                    14.000000\n",
       "Hardness             269.906124\n",
       "Solids             56030.453689\n",
       "Chloramines           12.513455\n",
       "Sulfate              300.823896\n",
       "Conductivity         551.722883\n",
       "Organic_carbon        26.100000\n",
       "Trihalomethanes      123.262000\n",
       "Turbidity              5.289000\n",
       "Potability             1.000000\n",
       "dtype: float64"
      ]
     },
     "execution_count": 138,
     "metadata": {},
     "output_type": "execute_result"
    }
   ],
   "source": [
    "#Get the ranges of every Column\n",
    "df.max() - df.min()"
   ]
  },
  {
   "cell_type": "code",
   "execution_count": 103,
   "id": "e29adc99",
   "metadata": {},
   "outputs": [
    {
     "data": {
      "text/plain": [
       "ph                 0\n",
       "Hardness           0\n",
       "Solids             0\n",
       "Chloramines        0\n",
       "Sulfate            0\n",
       "Conductivity       0\n",
       "Organic_carbon     0\n",
       "Trihalomethanes    0\n",
       "Turbidity          0\n",
       "Potability         0\n",
       "dtype: int64"
      ]
     },
     "execution_count": 103,
     "metadata": {},
     "output_type": "execute_result"
    }
   ],
   "source": [
    "df.isnull().sum()"
   ]
  },
  {
   "cell_type": "code",
   "execution_count": 104,
   "id": "52ff9317",
   "metadata": {},
   "outputs": [
    {
     "data": {
      "text/plain": [
       "<AxesSubplot:xlabel='Potability', ylabel='count'>"
      ]
     },
     "execution_count": 104,
     "metadata": {},
     "output_type": "execute_result"
    },
    {
     "data": {
      "image/png": "[encoded data removed]",
      "text/plain": [
       "<Figure size 432x288 with 1 Axes>"
      ]
     },
     "metadata": {
      "needs_background": "light"
     },
     "output_type": "display_data"
    }
   ],
   "source": [
    "sns.countplot(x=\"Potability\", data=df)\n"
   ]
  },
  {
   "cell_type": "markdown",
   "id": "fe0a157b",
   "metadata": {},
   "source": [
    "# Dividing the Data For Training, Validating and Testing\n"
   ]
  },
  {
   "cell_type": "code",
   "execution_count": 105,
   "id": "5777114e",
   "metadata": {},
   "outputs": [],
   "source": [
    "df_full_train, df_test = train_test_split(df, test_size=0.2, random_state=2)\n",
    "df_train, df_val = train_test_split(df_full_train, test_size=0.25, random_state=2)"
   ]
  },
  {
   "cell_type": "code",
   "execution_count": 106,
   "id": "d4fe232f",
   "metadata": {},
   "outputs": [],
   "source": [
    "y_train = df_train['Potability']\n",
    "y_val =df_val['Potability']\n",
    "y_test =df_test['Potability']"
   ]
  },
  {
   "cell_type": "code",
   "execution_count": 107,
   "id": "de0f06db",
   "metadata": {},
   "outputs": [],
   "source": [
    "del df_train['Potability']\n",
    "del df_val['Potability']\n",
    "del df_test['Potability']"
   ]
  },
  {
   "cell_type": "code",
   "execution_count": 108,
   "id": "d834ac09",
   "metadata": {},
   "outputs": [
    {
     "data": {
      "text/html": [
       "<div>\n",
       "<style scoped>\n",
       "    .dataframe tbody tr th:only-of-type {\n",
       "        vertical-align: middle;\n",
       "    }\n",
       "\n",
       "    .dataframe tbody tr th {\n",
       "        vertical-align: top;\n",
       "    }\n",
       "\n",
       "    .dataframe thead th {\n",
       "        text-align: right;\n",
       "    }\n",
       "</style>\n",
       "<table border=\"1\" class=\"dataframe\">\n",
       "  <thead>\n",
       "    <tr style=\"text-align: right;\">\n",
       "      <th></th>\n",
       "      <th>ph</th>\n",
       "      <th>Hardness</th>\n",
       "      <th>Solids</th>\n",
       "      <th>Chloramines</th>\n",
       "      <th>Sulfate</th>\n",
       "      <th>Conductivity</th>\n",
       "      <th>Organic_carbon</th>\n",
       "      <th>Trihalomethanes</th>\n",
       "      <th>Turbidity</th>\n",
       "    </tr>\n",
       "  </thead>\n",
       "  <tbody>\n",
       "    <tr>\n",
       "      <th>1632</th>\n",
       "      <td>9.314522</td>\n",
       "      <td>203.341650</td>\n",
       "      <td>23087.21766</td>\n",
       "      <td>6.437071</td>\n",
       "      <td>297.566764</td>\n",
       "      <td>373.044172</td>\n",
       "      <td>16.402773</td>\n",
       "      <td>79.163456</td>\n",
       "      <td>3.092940</td>\n",
       "    </tr>\n",
       "    <tr>\n",
       "      <th>414</th>\n",
       "      <td>6.300002</td>\n",
       "      <td>172.350281</td>\n",
       "      <td>40682.14400</td>\n",
       "      <td>4.242829</td>\n",
       "      <td>302.611858</td>\n",
       "      <td>485.672457</td>\n",
       "      <td>18.737931</td>\n",
       "      <td>64.808546</td>\n",
       "      <td>3.709437</td>\n",
       "    </tr>\n",
       "    <tr>\n",
       "      <th>1777</th>\n",
       "      <td>6.164480</td>\n",
       "      <td>189.058756</td>\n",
       "      <td>27312.16838</td>\n",
       "      <td>6.822157</td>\n",
       "      <td>319.951593</td>\n",
       "      <td>522.801399</td>\n",
       "      <td>13.502580</td>\n",
       "      <td>53.696202</td>\n",
       "      <td>4.834023</td>\n",
       "    </tr>\n",
       "    <tr>\n",
       "      <th>447</th>\n",
       "      <td>5.844674</td>\n",
       "      <td>147.179804</td>\n",
       "      <td>13615.10976</td>\n",
       "      <td>8.881112</td>\n",
       "      <td>394.658380</td>\n",
       "      <td>533.040210</td>\n",
       "      <td>14.217373</td>\n",
       "      <td>91.614031</td>\n",
       "      <td>4.338056</td>\n",
       "    </tr>\n",
       "    <tr>\n",
       "      <th>1894</th>\n",
       "      <td>7.080795</td>\n",
       "      <td>169.547411</td>\n",
       "      <td>20004.73363</td>\n",
       "      <td>6.437675</td>\n",
       "      <td>333.775777</td>\n",
       "      <td>349.865036</td>\n",
       "      <td>11.332518</td>\n",
       "      <td>41.703766</td>\n",
       "      <td>3.882004</td>\n",
       "    </tr>\n",
       "  </tbody>\n",
       "</table>\n",
       "</div>"
      ],
      "text/plain": [
       "            ph    Hardness       Solids  Chloramines     Sulfate  \\\n",
       "1632  9.314522  203.341650  23087.21766     6.437071  297.566764   \n",
       "414   6.300002  172.350281  40682.14400     4.242829  302.611858   \n",
       "1777  6.164480  189.058756  27312.16838     6.822157  319.951593   \n",
       "447   5.844674  147.179804  13615.10976     8.881112  394.658380   \n",
       "1894  7.080795  169.547411  20004.73363     6.437675  333.775777   \n",
       "\n",
       "      Conductivity  Organic_carbon  Trihalomethanes  Turbidity  \n",
       "1632    373.044172       16.402773        79.163456   3.092940  \n",
       "414     485.672457       18.737931        64.808546   3.709437  \n",
       "1777    522.801399       13.502580        53.696202   4.834023  \n",
       "447     533.040210       14.217373        91.614031   4.338056  \n",
       "1894    349.865036       11.332518        41.703766   3.882004  "
      ]
     },
     "execution_count": 108,
     "metadata": {},
     "output_type": "execute_result"
    }
   ],
   "source": [
    "df_train.head()"
   ]
  },
  {
   "cell_type": "markdown",
   "id": "00cf389d",
   "metadata": {},
   "source": [
    "# Feature Importance and Correlation"
   ]
  },
  {
   "cell_type": "code",
   "execution_count": 109,
   "id": "f289a110",
   "metadata": {},
   "outputs": [],
   "source": [
    "Feartures=df_train.columns"
   ]
  },
  {
   "cell_type": "code",
   "execution_count": 110,
   "id": "f7611ba7",
   "metadata": {},
   "outputs": [
    {
     "data": {
      "text/plain": [
       "Index(['ph', 'Hardness', 'Solids', 'Chloramines', 'Sulfate', 'Conductivity',\n",
       "       'Organic_carbon', 'Trihalomethanes', 'Turbidity'],\n",
       "      dtype='object')"
      ]
     },
     "execution_count": 110,
     "metadata": {},
     "output_type": "execute_result"
    }
   ],
   "source": [
    "Feartures"
   ]
  },
  {
   "cell_type": "code",
   "execution_count": 111,
   "id": "85821161",
   "metadata": {},
   "outputs": [],
   "source": [
    "#calculating the correlation\n",
    "Corr=df_train.corr()\n"
   ]
  },
  {
   "cell_type": "code",
   "execution_count": 112,
   "id": "0c766854",
   "metadata": {},
   "outputs": [
    {
     "name": "stderr",
     "output_type": "stream",
     "text": [
      "<ipython-input-112-f1af6b7a8582>:8: UserWarning: FixedFormatter should only be used together with FixedLocator\n",
      "  ax.set_xticklabels(Feartures,rotation=45)\n",
      "<ipython-input-112-f1af6b7a8582>:9: UserWarning: FixedFormatter should only be used together with FixedLocator\n",
      "  ax.set_yticklabels(Feartures,rotation=45)\n"
     ]
    },
    {
     "data": {
      "image/png": "[encoded data removed]",
      "text/plain": [
       "<Figure size 432x288 with 2 Axes>"
      ]
     },
     "metadata": {
      "needs_background": "light"
     },
     "output_type": "display_data"
    }
   ],
   "source": [
    "\n",
    "#Plotiing the Correlation \n",
    "fig = plt.figure()\n",
    "ax = fig.add_subplot(111)\n",
    "subplotsize=[8.,8.]\n",
    "figuresize=[10.,10.]   \n",
    "cax = ax.matshow(Corr)\n",
    "fig.colorbar(cax)\n",
    "ax.set_xticklabels(Feartures,rotation=45)\n",
    "ax.set_yticklabels(Feartures,rotation=45)\n",
    "plt.show()"
   ]
  },
  {
   "cell_type": "code",
   "execution_count": 113,
   "id": "f3ea4b1c",
   "metadata": {},
   "outputs": [
    {
     "name": "stderr",
     "output_type": "stream",
     "text": [
      "C:\\Users\\user\\Anaconda3\\lib\\site-packages\\sklearn\\metrics\\cluster\\_supervised.py:58: UserWarning: Clustering metrics expects discrete values but received continuous values for label, and binary values for target\n",
      "  warnings.warn(msg, UserWarning)\n",
      "C:\\Users\\user\\Anaconda3\\lib\\site-packages\\sklearn\\metrics\\cluster\\_supervised.py:58: UserWarning: Clustering metrics expects discrete values but received continuous values for label, and binary values for target\n",
      "  warnings.warn(msg, UserWarning)\n",
      "C:\\Users\\user\\Anaconda3\\lib\\site-packages\\sklearn\\metrics\\cluster\\_supervised.py:58: UserWarning: Clustering metrics expects discrete values but received continuous values for label, and binary values for target\n",
      "  warnings.warn(msg, UserWarning)\n",
      "C:\\Users\\user\\Anaconda3\\lib\\site-packages\\sklearn\\metrics\\cluster\\_supervised.py:58: UserWarning: Clustering metrics expects discrete values but received continuous values for label, and binary values for target\n",
      "  warnings.warn(msg, UserWarning)\n",
      "C:\\Users\\user\\Anaconda3\\lib\\site-packages\\sklearn\\metrics\\cluster\\_supervised.py:58: UserWarning: Clustering metrics expects discrete values but received continuous values for label, and binary values for target\n",
      "  warnings.warn(msg, UserWarning)\n",
      "C:\\Users\\user\\Anaconda3\\lib\\site-packages\\sklearn\\metrics\\cluster\\_supervised.py:58: UserWarning: Clustering metrics expects discrete values but received continuous values for label, and binary values for target\n",
      "  warnings.warn(msg, UserWarning)\n",
      "C:\\Users\\user\\Anaconda3\\lib\\site-packages\\sklearn\\metrics\\cluster\\_supervised.py:58: UserWarning: Clustering metrics expects discrete values but received continuous values for label, and binary values for target\n",
      "  warnings.warn(msg, UserWarning)\n",
      "C:\\Users\\user\\Anaconda3\\lib\\site-packages\\sklearn\\metrics\\cluster\\_supervised.py:58: UserWarning: Clustering metrics expects discrete values but received continuous values for label, and binary values for target\n",
      "  warnings.warn(msg, UserWarning)\n",
      "C:\\Users\\user\\Anaconda3\\lib\\site-packages\\sklearn\\metrics\\cluster\\_supervised.py:58: UserWarning: Clustering metrics expects discrete values but received continuous values for label, and binary values for target\n",
      "  warnings.warn(msg, UserWarning)\n"
     ]
    }
   ],
   "source": [
    "#Doing Features Importance, Plotting the results \n",
    "Mutual_information=[]\n",
    "for name in Feartures:\n",
    "    x=mutual_info_score(df_train[name],y_train)\n",
    "    Mutual_information.append(x)\n"
   ]
  },
  {
   "cell_type": "code",
   "execution_count": 114,
   "id": "574cded8",
   "metadata": {},
   "outputs": [
    {
     "name": "stderr",
     "output_type": "stream",
     "text": [
      "<ipython-input-114-f09e6416c739>:6: UserWarning: FixedFormatter should only be used together with FixedLocator\n",
      "  ax.set_xticklabels(Feartures,rotation=45)\n"
     ]
    },
    {
     "data": {
      "image/png": "[encoded data removed]",
      "text/plain": [
       "<Figure size 432x288 with 1 Axes>"
      ]
     },
     "metadata": {
      "needs_background": "light"
     },
     "output_type": "display_data"
    }
   ],
   "source": [
    "fig = plt.figure()\n",
    "ax = fig.add_subplot(111)\n",
    "subplotsize=[8.,8.]\n",
    "figuresize=[10.,10.]   \n",
    "cax = ax.bar(Feartures,Mutual_information)\n",
    "ax.set_xticklabels(Feartures,rotation=45)\n",
    "ax.set_xlabel(\"Features\")\n",
    "ax.set_ylabel(\"Mutual Information\")\n",
    "\n",
    "plt.show()"
   ]
  },
  {
   "cell_type": "markdown",
   "id": "dcc2a952",
   "metadata": {},
   "source": [
    "# Using a Dvictorizer for both Training and Validation Data"
   ]
  },
  {
   "cell_type": "code",
   "execution_count": 115,
   "id": "c203361c",
   "metadata": {},
   "outputs": [],
   "source": [
    "train_dicts = df_train.to_dict(orient='records')\n",
    "dv = DictVectorizer()\n",
    "X_train = dv.fit_transform(train_dicts)\n",
    "val_dicts = df_val.to_dict(orient='records')\n",
    "X_val = dv.transform(val_dicts)"
   ]
  },
  {
   "cell_type": "markdown",
   "id": "1745e8a0",
   "metadata": {},
   "source": [
    "# Use Random Forest Model"
   ]
  },
  {
   "cell_type": "code",
   "execution_count": 116,
   "id": "aa59644f",
   "metadata": {},
   "outputs": [],
   "source": [
    "number_of_trees=np.arange(10, 201, 10)\n",
    "max_depth=np.arange(5,15,2)"
   ]
  },
  {
   "cell_type": "code",
   "execution_count": 117,
   "id": "fb93db58",
   "metadata": {},
   "outputs": [
    {
     "name": "stdout",
     "output_type": "stream",
     "text": [
      "for trees= 10  depth = 5 score= 0.5534326297100021\n",
      "for trees= 20  depth = 5 score= 0.5680311698559875\n",
      "for trees= 30  depth = 5 score= 0.5634346024856974\n",
      "for trees= 40  depth = 5 score= 0.5480962714539356\n",
      "for trees= 50  depth = 5 score= 0.5518149536397712\n",
      "for trees= 60  depth = 5 score= 0.5618169264154665\n",
      "for trees= 70  depth = 5 score= 0.5789800749654764\n",
      "for trees= 80  depth = 5 score= 0.5672913789702111\n",
      "for trees= 90  depth = 5 score= 0.5708719668573683\n",
      "for trees= 100  depth = 5 score= 0.576346419412113\n",
      "for trees= 110  depth = 5 score= 0.5691161964884592\n",
      "for trees= 120  depth = 5 score= 0.5718188991911619\n",
      "for trees= 130  depth = 5 score= 0.5645886762675084\n",
      "for trees= 140  depth = 5 score= 0.5627638587492603\n",
      "for trees= 150  depth = 5 score= 0.5636417439337147\n",
      "for trees= 160  depth = 5 score= 0.5645886762675084\n",
      "for trees= 170  depth = 5 score= 0.5672913789702111\n",
      "for trees= 180  depth = 5 score= 0.5636417439337147\n",
      "for trees= 190  depth = 5 score= 0.560939041231012\n",
      "for trees= 200  depth = 5 score= 0.5627638587492603\n",
      "for trees= 10  depth = 7 score= 0.5757249950680607\n",
      "for trees= 20  depth = 7 score= 0.5759321365160782\n",
      "for trees= 30  depth = 7 score= 0.5714046162951273\n",
      "for trees= 40  depth = 7 score= 0.5859341092917736\n",
      "for trees= 50  depth = 7 score= 0.5723515486289208\n",
      "for trees= 60  depth = 7 score= 0.57242059577826\n",
      "for trees= 70  depth = 7 score= 0.5742454132965082\n",
      "for trees= 80  depth = 7 score= 0.5760702308147564\n",
      "for trees= 90  depth = 7 score= 0.5751923456303017\n",
      "for trees= 100  depth = 7 score= 0.5797198658512527\n",
      "for trees= 110  depth = 7 score= 0.5778950483330045\n",
      "for trees= 120  depth = 7 score= 0.5869500887749063\n",
      "for trees= 130  depth = 7 score= 0.5824225685539554\n",
      "for trees= 140  depth = 7 score= 0.585125271256658\n",
      "for trees= 150  depth = 7 score= 0.5743144604458473\n",
      "for trees= 160  depth = 7 score= 0.5760702308147564\n",
      "for trees= 170  depth = 7 score= 0.585125271256658\n",
      "for trees= 180  depth = 7 score= 0.5805977510357072\n",
      "for trees= 190  depth = 7 score= 0.5833004537384099\n",
      "for trees= 200  depth = 7 score= 0.5805977510357072\n",
      "for trees= 10  depth = 9 score= 0.5745709212862498\n",
      "for trees= 20  depth = 9 score= 0.5820082856579207\n",
      "for trees= 30  depth = 9 score= 0.5811304004734662\n",
      "for trees= 40  depth = 9 score= 0.5675478398106135\n",
      "for trees= 50  depth = 9 score= 0.5830933122903926\n",
      "for trees= 60  depth = 9 score= 0.5830933122903926\n",
      "for trees= 70  depth = 9 score= 0.5857960149930953\n",
      "for trees= 80  depth = 9 score= 0.5894456500295916\n",
      "for trees= 90  depth = 9 score= 0.5940422173998817\n",
      "for trees= 100  depth = 9 score= 0.5840402446241862\n",
      "for trees= 110  depth = 9 score= 0.5858650621424343\n",
      "for trees= 120  depth = 9 score= 0.5903925823633853\n",
      "for trees= 130  depth = 9 score= 0.5912704675478399\n",
      "for trees= 140  depth = 9 score= 0.5840402446241862\n",
      "for trees= 150  depth = 9 score= 0.5894456500295916\n",
      "for trees= 160  depth = 9 score= 0.5894456500295916\n",
      "for trees= 170  depth = 9 score= 0.6012033931741961\n",
      "for trees= 180  depth = 9 score= 0.5966758729532452\n",
      "for trees= 190  depth = 9 score= 0.5939731702505424\n",
      "for trees= 200  depth = 9 score= 0.5939731702505424\n",
      "for trees= 10  depth = 11 score= 0.579907279542316\n",
      "for trees= 20  depth = 11 score= 0.5692345630301835\n",
      "for trees= 30  depth = 11 score= 0.5711284276977708\n",
      "for trees= 40  depth = 11 score= 0.5766028802525154\n",
      "for trees= 50  depth = 11 score= 0.5811304004734662\n",
      "for trees= 60  depth = 11 score= 0.6000493193923851\n",
      "for trees= 70  depth = 11 score= 0.5937660288025252\n",
      "for trees= 80  depth = 11 score= 0.5892385085815742\n",
      "for trees= 90  depth = 11 score= 0.5847109883606234\n",
      "for trees= 100  depth = 11 score= 0.5801834681396726\n",
      "for trees= 110  depth = 11 score= 0.5820082856579207\n",
      "for trees= 120  depth = 11 score= 0.5774807654369699\n",
      "for trees= 130  depth = 11 score= 0.5811304004734662\n",
      "for trees= 140  depth = 11 score= 0.5865358058788716\n",
      "for trees= 150  depth = 11 score= 0.5883606233971197\n",
      "for trees= 160  depth = 11 score= 0.5901854409153678\n",
      "for trees= 170  depth = 11 score= 0.5901854409153678\n",
      "for trees= 180  depth = 11 score= 0.5937660288025252\n",
      "for trees= 190  depth = 11 score= 0.5882915762477807\n",
      "for trees= 200  depth = 11 score= 0.5928190964687315\n",
      "for trees= 10  depth = 13 score= 0.5845038469126059\n",
      "for trees= 20  depth = 13 score= 0.5790984415072006\n",
      "for trees= 30  depth = 13 score= 0.5989642927599133\n",
      "for trees= 40  depth = 13 score= 0.5990333399092522\n",
      "for trees= 50  depth = 13 score= 0.5980173604261195\n",
      "for trees= 60  depth = 13 score= 0.5935588873545078\n",
      "for trees= 70  depth = 13 score= 0.608019333201815\n",
      "for trees= 80  depth = 13 score= 0.6107910830538568\n",
      "for trees= 90  depth = 13 score= 0.5945058196883015\n",
      "for trees= 100  depth = 13 score= 0.5980864075754586\n",
      "for trees= 110  depth = 13 score= 0.6026139277964097\n",
      "for trees= 120  depth = 13 score= 0.6035608601302032\n",
      "for trees= 130  depth = 13 score= 0.6036299072795424\n",
      "for trees= 140  depth = 13 score= 0.6072795423160386\n",
      "for trees= 150  depth = 13 score= 0.5972775695403433\n",
      "for trees= 160  depth = 13 score= 0.598224501874137\n",
      "for trees= 170  depth = 13 score= 0.5991023870585915\n",
      "for trees= 180  depth = 13 score= 0.5928190964687315\n",
      "for trees= 190  depth = 13 score= 0.6000493193923851\n",
      "for trees= 200  depth = 13 score= 0.5963996843558887\n"
     ]
    }
   ],
   "source": [
    "scores = np.zeros((len(number_of_trees),len(max_depth)))\n",
    "\n",
    "for i in range(len(max_depth)):\n",
    "    for j  in range(len(number_of_trees)):\n",
    "        rf = RandomForestClassifier(n_estimators=number_of_trees[j],max_depth=max_depth[i],random_state=1)\n",
    "        rf.fit(X_train, y_train)\n",
    "        y_pred = rf.predict(X_val)\n",
    "        scores[j,i]= roc_auc_score(y_val, y_pred)\n",
    "        print(\"for trees=\",number_of_trees[j], \" depth =\", max_depth[i],\"score=\", scores[j,i])\n",
    "\n",
    "        "
   ]
  },
  {
   "cell_type": "markdown",
   "id": "ce938c19",
   "metadata": {},
   "source": [
    "# Draw the Validation Score  and get  the parameters with the highest score"
   ]
  },
  {
   "cell_type": "code",
   "execution_count": 118,
   "id": "2c6c97f4",
   "metadata": {},
   "outputs": [
    {
     "name": "stderr",
     "output_type": "stream",
     "text": [
      "<ipython-input-118-cdaae0581ee1>:8: UserWarning: FixedFormatter should only be used together with FixedLocator\n",
      "  ax.set_xticklabels(max_depth,rotation=45)\n",
      "<ipython-input-118-cdaae0581ee1>:9: UserWarning: FixedFormatter should only be used together with FixedLocator\n",
      "  ax.set_yticklabels(number_of_trees,rotation=45)\n"
     ]
    },
    {
     "data": {
      "image/png": "[encoded data removed]",
      "text/plain": [
       "<Figure size 432x288 with 2 Axes>"
      ]
     },
     "metadata": {
      "needs_background": "light"
     },
     "output_type": "display_data"
    }
   ],
   "source": [
    "#Plotiing the Score\n",
    "fig = plt.figure()\n",
    "ax = fig.add_subplot(111)\n",
    "subplotsize=[100,100.]\n",
    "figuresize=[100.,100.]   \n",
    "cax = ax.matshow(scores)\n",
    "fig.colorbar(cax)\n",
    "ax.set_xticklabels(max_depth,rotation=45)\n",
    "ax.set_yticklabels(number_of_trees,rotation=45)\n",
    "ax.set_xlabel(\"max_depth\")\n",
    "ax.set_ylabel(\"Number of Trees\")\n",
    "\n",
    "plt.show()"
   ]
  },
  {
   "cell_type": "code",
   "execution_count": 119,
   "id": "41241573",
   "metadata": {},
   "outputs": [],
   "source": [
    "#Get the parameter with the highest score\n",
    "indices=np.where(scores==np.max(scores))"
   ]
  },
  {
   "cell_type": "code",
   "execution_count": 123,
   "id": "38e84022",
   "metadata": {},
   "outputs": [
    {
     "name": "stdout",
     "output_type": "stream",
     "text": [
      "The best number of trees is 80\n",
      "The best max depth is 13\n",
      "The score is 0.6107910830538568\n"
     ]
    }
   ],
   "source": [
    "print(\"The best number of trees is\", number_of_trees[indices[0][0]])\n",
    "print(\"The best max depth is\", max_depth[indices[1][0]])\n",
    "print(\"The score is\",scores[indices[0][0],indices[1][0]])\n"
   ]
  },
  {
   "cell_type": "code",
   "execution_count": 124,
   "id": "37c5f49e",
   "metadata": {},
   "outputs": [
    {
     "data": {
      "text/plain": [
       "RandomForestClassifier(max_depth=13, n_estimators=80, random_state=1)"
      ]
     },
     "execution_count": 124,
     "metadata": {},
     "output_type": "execute_result"
    }
   ],
   "source": [
    "optimal_trees=number_of_trees[indices[0][0]]\n",
    "max_depth_optimal= max_depth[indices[1][0]]\n",
    "rf = RandomForestClassifier(n_estimators=optimal_trees,max_depth=max_depth_optimal,random_state=1)\n",
    "rf.fit(X_train, y_train)"
   ]
  },
  {
   "cell_type": "markdown",
   "id": "051d871d",
   "metadata": {},
   "source": [
    "# Use Logistic Regression"
   ]
  },
  {
   "cell_type": "code",
   "execution_count": 132,
   "id": "df01f7db",
   "metadata": {},
   "outputs": [],
   "source": [
    "array_C=np.linspace(0.001,1000,1000)\n",
    "score_logistic=[]"
   ]
  },
  {
   "cell_type": "code",
   "execution_count": 135,
   "id": "e5be438f",
   "metadata": {},
   "outputs": [],
   "source": [
    "for i in range(len(array_C)):\n",
    "    model = LogisticRegression(C=array_C[i], max_iter=10000)\n",
    "    model.fit(X_train, y_train)\n",
    "    y_pred = model.predict(X_val)\n",
    "    score_logistic.append( roc_auc_score(y_val, y_pred))\n",
    "    "
   ]
  },
  {
   "cell_type": "code",
   "execution_count": 137,
   "id": "7e878fce",
   "metadata": {},
   "outputs": [
    {
     "name": "stdout",
     "output_type": "stream",
     "text": [
      "The best value of C is 0.001\n",
      "The score is 0.5161471690668771\n"
     ]
    }
   ],
   "source": [
    "#get the value of C for the maximum score\n",
    "indices=np.where(score_logistic==np.max(score_logistic))\n",
    "print(\"The best value of C is\", array_C[indices[0][0]])\n",
    "print(\"The score is\",score_logistic[indices[0][0]])"
   ]
  },
  {
   "cell_type": "markdown",
   "id": "1eb2ff6c",
   "metadata": {},
   "source": [
    "# By comparing the performance ofLogistic Regression and Random Forest on the Validation Data , it is clear that Random Forest better score than Logistic Regression, so I will deploy the Random Forest"
   ]
  },
  {
   "cell_type": "code",
   "execution_count": null,
   "id": "4dc7e432",
   "metadata": {},
   "outputs": [],
   "source": []
  }
 ],
 "metadata": {
  "kernelspec": {
   "display_name": "Python 3",
   "language": "python",
   "name": "python3"
  },
  "language_info": {
   "codemirror_mode": {
    "name": "ipython",
    "version": 3
   },
   "file_extension": ".py",
   "mimetype": "text/x-python",
   "name": "python",
   "nbconvert_exporter": "python",
   "pygments_lexer": "ipython3",
   "version": "3.9.7"
  }
 },
 "nbformat": 4,
 "nbformat_minor": 5
}
