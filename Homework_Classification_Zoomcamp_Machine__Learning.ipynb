{
  "nbformat": 4,
  "nbformat_minor": 0,
  "metadata": {
    "colab": {
      "provenance": []
    },
    "kernelspec": {
      "name": "python3",
      "display_name": "Python 3"
    },
    "language_info": {
      "name": "python"
    }
  },
  "cells": [
    {
      "cell_type": "code",
      "execution_count": 53,
      "metadata": {
        "id": "tgNLdFmx1cfa"
      },
      "outputs": [],
      "source": [
        "#Downloading Relevant Libraries\n",
        "import numpy as np\n",
        "import pandas as pd\n",
        "from sklearn.model_selection import train_test_split\n",
        "from sklearn.metrics import mutual_info_score\n",
        "from sklearn.feature_extraction import DictVectorizer\n",
        "from sklearn.linear_model import LogisticRegression\n",
        "from sklearn.linear_model import Ridge"
      ]
    },
    {
      "cell_type": "code",
      "source": [
        "#RMSE Error\n",
        "def rmse(y, y_pred):\n",
        "    se = (y - y_pred) ** 2\n",
        "    mse = se.mean()\n",
        "    return np.sqrt(mse)"
      ],
      "metadata": {
        "id": "ICZCGAInLP4j"
      },
      "execution_count": 54,
      "outputs": []
    },
    {
      "cell_type": "code",
      "source": [
        "#loading the data\n",
        "data=pd.read_csv(\"housing.csv\")"
      ],
      "metadata": {
        "id": "FQqNFstX4zDt"
      },
      "execution_count": 55,
      "outputs": []
    },
    {
      "cell_type": "code",
      "source": [
        "#taking the relevant columns only\n",
        "data=data[['latitude','longitude','housing_median_age','total_rooms','total_bedrooms','population','households','median_income','median_house_value','ocean_proximity']]"
      ],
      "metadata": {
        "id": "mQhY360S43TR"
      },
      "execution_count": 57,
      "outputs": []
    },
    {
      "cell_type": "code",
      "source": [
        "data.isna().sum()"
      ],
      "metadata": {
        "colab": {
          "base_uri": "https://localhost:8080/"
        },
        "id": "3pJkrFuj5dvp",
        "outputId": "5a0137d2-aa13-4eb3-966a-eed05c22c5d2"
      },
      "execution_count": 58,
      "outputs": [
        {
          "output_type": "execute_result",
          "data": {
            "text/plain": [
              "latitude                0\n",
              "longitude               0\n",
              "housing_median_age      0\n",
              "total_rooms             0\n",
              "total_bedrooms        207\n",
              "population              0\n",
              "households              0\n",
              "median_income           0\n",
              "median_house_value      0\n",
              "ocean_proximity         0\n",
              "dtype: int64"
            ]
          },
          "metadata": {},
          "execution_count": 58
        }
      ]
    },
    {
      "cell_type": "code",
      "source": [
        "data=data.fillna(0)\n",
        "data.isna().sum()"
      ],
      "metadata": {
        "colab": {
          "base_uri": "https://localhost:8080/"
        },
        "id": "kyRjevWI5kCK",
        "outputId": "4ed018dc-fb46-4d16-a7d5-376a2535ab72"
      },
      "execution_count": 59,
      "outputs": [
        {
          "output_type": "execute_result",
          "data": {
            "text/plain": [
              "latitude              0\n",
              "longitude             0\n",
              "housing_median_age    0\n",
              "total_rooms           0\n",
              "total_bedrooms        0\n",
              "population            0\n",
              "households            0\n",
              "median_income         0\n",
              "median_house_value    0\n",
              "ocean_proximity       0\n",
              "dtype: int64"
            ]
          },
          "metadata": {},
          "execution_count": 59
        }
      ]
    },
    {
      "cell_type": "code",
      "source": [
        "#Adding New Columns\n",
        "data['rooms_per_household']=data['total_rooms']/data['households']\n",
        "data['bedrooms_per_room']=data['total_bedrooms']/data['total_rooms']\n",
        "data['population_per_household']=data['population']/data['households']"
      ],
      "metadata": {
        "id": "0aC5MTCw6BDf"
      },
      "execution_count": 60,
      "outputs": []
    },
    {
      "cell_type": "code",
      "source": [
        "#Calculating the mode\n",
        "data['ocean_proximity'].mode()"
      ],
      "metadata": {
        "colab": {
          "base_uri": "https://localhost:8080/"
        },
        "id": "ICRfo9Ro6BIr",
        "outputId": "5f9c18d3-bef5-454a-d95b-98ad3c00c74c"
      },
      "execution_count": 61,
      "outputs": [
        {
          "output_type": "execute_result",
          "data": {
            "text/plain": [
              "0    <1H OCEAN\n",
              "dtype: object"
            ]
          },
          "metadata": {},
          "execution_count": 61
        }
      ]
    },
    {
      "cell_type": "code",
      "source": [
        "#Splitting the data\n",
        "Y=data[\"median_house_value\"]\n",
        "X=data.drop(['median_house_value'],axis=1)"
      ],
      "metadata": {
        "id": "ydjnAWnM7Wqe"
      },
      "execution_count": 62,
      "outputs": []
    },
    {
      "cell_type": "code",
      "source": [
        "#Splitting the data into testing, validation and training\n",
        "X_full_train, X_test,Y_full_train,Y_test = train_test_split(X,Y, test_size=0.2, random_state=42)\n",
        "X_train,X_val,Y_train,Y_val = train_test_split(X_full_train,Y_full_train, test_size=0.25, random_state=42)"
      ],
      "metadata": {
        "id": "IS6JBd628yeG"
      },
      "execution_count": 63,
      "outputs": []
    },
    {
      "cell_type": "code",
      "source": [
        "#Calculate the correlation matrix\n",
        "#Drop the catorigcal values then correlation\n",
        "X_train_numerical=X_train.drop(['ocean_proximity'],axis=1)\n",
        "correlation_Matrix = X_train_numerical.corr()"
      ],
      "metadata": {
        "id": "VT_UvA779tpl"
      },
      "execution_count": 64,
      "outputs": []
    },
    {
      "cell_type": "code",
      "source": [
        "correlation_Matrix"
      ],
      "metadata": {
        "colab": {
          "base_uri": "https://localhost:8080/",
          "height": 458
        },
        "id": "hz4EYqGd-lLv",
        "outputId": "c93d9840-0524-4da0-9b14-ec2de0384f98"
      },
      "execution_count": 65,
      "outputs": [
        {
          "output_type": "execute_result",
          "data": {
            "text/plain": [
              "                          latitude  longitude  housing_median_age  \\\n",
              "latitude                  1.000000  -0.925005            0.002477   \n",
              "longitude                -0.925005   1.000000           -0.099812   \n",
              "housing_median_age        0.002477  -0.099812            1.000000   \n",
              "total_rooms              -0.025914   0.036449           -0.363522   \n",
              "total_bedrooms           -0.059730   0.063840           -0.324156   \n",
              "population               -0.100272   0.091670           -0.292476   \n",
              "households               -0.063529   0.049762           -0.306119   \n",
              "median_income            -0.076805  -0.016426           -0.119591   \n",
              "rooms_per_household       0.119118  -0.034814           -0.181275   \n",
              "bedrooms_per_room        -0.124507   0.102320            0.129456   \n",
              "population_per_household -0.002301   0.011022            0.012167   \n",
              "\n",
              "                          total_rooms  total_bedrooms  population  households  \\\n",
              "latitude                    -0.025914       -0.059730   -0.100272   -0.063529   \n",
              "longitude                    0.036449        0.063840    0.091670    0.049762   \n",
              "housing_median_age          -0.363522       -0.324156   -0.292476   -0.306119   \n",
              "total_rooms                  1.000000        0.931546    0.853219    0.921441   \n",
              "total_bedrooms               0.931546        1.000000    0.877340    0.979399   \n",
              "population                   0.853219        0.877340    1.000000    0.906841   \n",
              "households                   0.921441        0.979399    0.906841    1.000000   \n",
              "median_income                0.198951       -0.009833   -0.000849    0.011925   \n",
              "rooms_per_household          0.168926        0.010381   -0.076210   -0.085832   \n",
              "bedrooms_per_room           -0.194185        0.078094    0.031592    0.058004   \n",
              "population_per_household    -0.029452       -0.034301    0.064998   -0.032522   \n",
              "\n",
              "                          median_income  rooms_per_household  \\\n",
              "latitude                      -0.076805             0.119118   \n",
              "longitude                     -0.016426            -0.034814   \n",
              "housing_median_age            -0.119591            -0.181275   \n",
              "total_rooms                    0.198951             0.168926   \n",
              "total_bedrooms                -0.009833             0.010381   \n",
              "population                    -0.000849            -0.076210   \n",
              "households                     0.011925            -0.085832   \n",
              "median_income                  1.000000             0.394154   \n",
              "rooms_per_household            0.394154             1.000000   \n",
              "bedrooms_per_room             -0.616617            -0.500589   \n",
              "population_per_household      -0.000454             0.001801   \n",
              "\n",
              "                          bedrooms_per_room  population_per_household  \n",
              "latitude                          -0.124507                 -0.002301  \n",
              "longitude                          0.102320                  0.011022  \n",
              "housing_median_age                 0.129456                  0.012167  \n",
              "total_rooms                       -0.194185                 -0.029452  \n",
              "total_bedrooms                     0.078094                 -0.034301  \n",
              "population                         0.031592                  0.064998  \n",
              "households                         0.058004                 -0.032522  \n",
              "median_income                     -0.616617                 -0.000454  \n",
              "rooms_per_household               -0.500589                  0.001801  \n",
              "bedrooms_per_room                  1.000000                 -0.002851  \n",
              "population_per_household          -0.002851                  1.000000  "
            ],
            "text/html": [
              "\n",
              "  <div id=\"df-7bad1f19-f8ab-4bed-9c56-f8a608537003\">\n",
              "    <div class=\"colab-df-container\">\n",
              "      <div>\n",
              "<style scoped>\n",
              "    .dataframe tbody tr th:only-of-type {\n",
              "        vertical-align: middle;\n",
              "    }\n",
              "\n",
              "    .dataframe tbody tr th {\n",
              "        vertical-align: top;\n",
              "    }\n",
              "\n",
              "    .dataframe thead th {\n",
              "        text-align: right;\n",
              "    }\n",
              "</style>\n",
              "<table border=\"1\" class=\"dataframe\">\n",
              "  <thead>\n",
              "    <tr style=\"text-align: right;\">\n",
              "      <th></th>\n",
              "      <th>latitude</th>\n",
              "      <th>longitude</th>\n",
              "      <th>housing_median_age</th>\n",
              "      <th>total_rooms</th>\n",
              "      <th>total_bedrooms</th>\n",
              "      <th>population</th>\n",
              "      <th>households</th>\n",
              "      <th>median_income</th>\n",
              "      <th>rooms_per_household</th>\n",
              "      <th>bedrooms_per_room</th>\n",
              "      <th>population_per_household</th>\n",
              "    </tr>\n",
              "  </thead>\n",
              "  <tbody>\n",
              "    <tr>\n",
              "      <th>latitude</th>\n",
              "      <td>1.000000</td>\n",
              "      <td>-0.925005</td>\n",
              "      <td>0.002477</td>\n",
              "      <td>-0.025914</td>\n",
              "      <td>-0.059730</td>\n",
              "      <td>-0.100272</td>\n",
              "      <td>-0.063529</td>\n",
              "      <td>-0.076805</td>\n",
              "      <td>0.119118</td>\n",
              "      <td>-0.124507</td>\n",
              "      <td>-0.002301</td>\n",
              "    </tr>\n",
              "    <tr>\n",
              "      <th>longitude</th>\n",
              "      <td>-0.925005</td>\n",
              "      <td>1.000000</td>\n",
              "      <td>-0.099812</td>\n",
              "      <td>0.036449</td>\n",
              "      <td>0.063840</td>\n",
              "      <td>0.091670</td>\n",
              "      <td>0.049762</td>\n",
              "      <td>-0.016426</td>\n",
              "      <td>-0.034814</td>\n",
              "      <td>0.102320</td>\n",
              "      <td>0.011022</td>\n",
              "    </tr>\n",
              "    <tr>\n",
              "      <th>housing_median_age</th>\n",
              "      <td>0.002477</td>\n",
              "      <td>-0.099812</td>\n",
              "      <td>1.000000</td>\n",
              "      <td>-0.363522</td>\n",
              "      <td>-0.324156</td>\n",
              "      <td>-0.292476</td>\n",
              "      <td>-0.306119</td>\n",
              "      <td>-0.119591</td>\n",
              "      <td>-0.181275</td>\n",
              "      <td>0.129456</td>\n",
              "      <td>0.012167</td>\n",
              "    </tr>\n",
              "    <tr>\n",
              "      <th>total_rooms</th>\n",
              "      <td>-0.025914</td>\n",
              "      <td>0.036449</td>\n",
              "      <td>-0.363522</td>\n",
              "      <td>1.000000</td>\n",
              "      <td>0.931546</td>\n",
              "      <td>0.853219</td>\n",
              "      <td>0.921441</td>\n",
              "      <td>0.198951</td>\n",
              "      <td>0.168926</td>\n",
              "      <td>-0.194185</td>\n",
              "      <td>-0.029452</td>\n",
              "    </tr>\n",
              "    <tr>\n",
              "      <th>total_bedrooms</th>\n",
              "      <td>-0.059730</td>\n",
              "      <td>0.063840</td>\n",
              "      <td>-0.324156</td>\n",
              "      <td>0.931546</td>\n",
              "      <td>1.000000</td>\n",
              "      <td>0.877340</td>\n",
              "      <td>0.979399</td>\n",
              "      <td>-0.009833</td>\n",
              "      <td>0.010381</td>\n",
              "      <td>0.078094</td>\n",
              "      <td>-0.034301</td>\n",
              "    </tr>\n",
              "    <tr>\n",
              "      <th>population</th>\n",
              "      <td>-0.100272</td>\n",
              "      <td>0.091670</td>\n",
              "      <td>-0.292476</td>\n",
              "      <td>0.853219</td>\n",
              "      <td>0.877340</td>\n",
              "      <td>1.000000</td>\n",
              "      <td>0.906841</td>\n",
              "      <td>-0.000849</td>\n",
              "      <td>-0.076210</td>\n",
              "      <td>0.031592</td>\n",
              "      <td>0.064998</td>\n",
              "    </tr>\n",
              "    <tr>\n",
              "      <th>households</th>\n",
              "      <td>-0.063529</td>\n",
              "      <td>0.049762</td>\n",
              "      <td>-0.306119</td>\n",
              "      <td>0.921441</td>\n",
              "      <td>0.979399</td>\n",
              "      <td>0.906841</td>\n",
              "      <td>1.000000</td>\n",
              "      <td>0.011925</td>\n",
              "      <td>-0.085832</td>\n",
              "      <td>0.058004</td>\n",
              "      <td>-0.032522</td>\n",
              "    </tr>\n",
              "    <tr>\n",
              "      <th>median_income</th>\n",
              "      <td>-0.076805</td>\n",
              "      <td>-0.016426</td>\n",
              "      <td>-0.119591</td>\n",
              "      <td>0.198951</td>\n",
              "      <td>-0.009833</td>\n",
              "      <td>-0.000849</td>\n",
              "      <td>0.011925</td>\n",
              "      <td>1.000000</td>\n",
              "      <td>0.394154</td>\n",
              "      <td>-0.616617</td>\n",
              "      <td>-0.000454</td>\n",
              "    </tr>\n",
              "    <tr>\n",
              "      <th>rooms_per_household</th>\n",
              "      <td>0.119118</td>\n",
              "      <td>-0.034814</td>\n",
              "      <td>-0.181275</td>\n",
              "      <td>0.168926</td>\n",
              "      <td>0.010381</td>\n",
              "      <td>-0.076210</td>\n",
              "      <td>-0.085832</td>\n",
              "      <td>0.394154</td>\n",
              "      <td>1.000000</td>\n",
              "      <td>-0.500589</td>\n",
              "      <td>0.001801</td>\n",
              "    </tr>\n",
              "    <tr>\n",
              "      <th>bedrooms_per_room</th>\n",
              "      <td>-0.124507</td>\n",
              "      <td>0.102320</td>\n",
              "      <td>0.129456</td>\n",
              "      <td>-0.194185</td>\n",
              "      <td>0.078094</td>\n",
              "      <td>0.031592</td>\n",
              "      <td>0.058004</td>\n",
              "      <td>-0.616617</td>\n",
              "      <td>-0.500589</td>\n",
              "      <td>1.000000</td>\n",
              "      <td>-0.002851</td>\n",
              "    </tr>\n",
              "    <tr>\n",
              "      <th>population_per_household</th>\n",
              "      <td>-0.002301</td>\n",
              "      <td>0.011022</td>\n",
              "      <td>0.012167</td>\n",
              "      <td>-0.029452</td>\n",
              "      <td>-0.034301</td>\n",
              "      <td>0.064998</td>\n",
              "      <td>-0.032522</td>\n",
              "      <td>-0.000454</td>\n",
              "      <td>0.001801</td>\n",
              "      <td>-0.002851</td>\n",
              "      <td>1.000000</td>\n",
              "    </tr>\n",
              "  </tbody>\n",
              "</table>\n",
              "</div>\n",
              "      <button class=\"colab-df-convert\" onclick=\"convertToInteractive('df-7bad1f19-f8ab-4bed-9c56-f8a608537003')\"\n",
              "              title=\"Convert this dataframe to an interactive table.\"\n",
              "              style=\"display:none;\">\n",
              "        \n",
              "  <svg xmlns=\"http://www.w3.org/2000/svg\" height=\"24px\"viewBox=\"0 0 24 24\"\n",
              "       width=\"24px\">\n",
              "    <path d=\"M0 0h24v24H0V0z\" fill=\"none\"/>\n",
              "    <path d=\"M18.56 5.44l.94 2.06.94-2.06 2.06-.94-2.06-.94-.94-2.06-.94 2.06-2.06.94zm-11 1L8.5 8.5l.94-2.06 2.06-.94-2.06-.94L8.5 2.5l-.94 2.06-2.06.94zm10 10l.94 2.06.94-2.06 2.06-.94-2.06-.94-.94-2.06-.94 2.06-2.06.94z\"/><path d=\"M17.41 7.96l-1.37-1.37c-.4-.4-.92-.59-1.43-.59-.52 0-1.04.2-1.43.59L10.3 9.45l-7.72 7.72c-.78.78-.78 2.05 0 2.83L4 21.41c.39.39.9.59 1.41.59.51 0 1.02-.2 1.41-.59l7.78-7.78 2.81-2.81c.8-.78.8-2.07 0-2.86zM5.41 20L4 18.59l7.72-7.72 1.47 1.35L5.41 20z\"/>\n",
              "  </svg>\n",
              "      </button>\n",
              "      \n",
              "  <style>\n",
              "    .colab-df-container {\n",
              "      display:flex;\n",
              "      flex-wrap:wrap;\n",
              "      gap: 12px;\n",
              "    }\n",
              "\n",
              "    .colab-df-convert {\n",
              "      background-color: #E8F0FE;\n",
              "      border: none;\n",
              "      border-radius: 50%;\n",
              "      cursor: pointer;\n",
              "      display: none;\n",
              "      fill: #1967D2;\n",
              "      height: 32px;\n",
              "      padding: 0 0 0 0;\n",
              "      width: 32px;\n",
              "    }\n",
              "\n",
              "    .colab-df-convert:hover {\n",
              "      background-color: #E2EBFA;\n",
              "      box-shadow: 0px 1px 2px rgba(60, 64, 67, 0.3), 0px 1px 3px 1px rgba(60, 64, 67, 0.15);\n",
              "      fill: #174EA6;\n",
              "    }\n",
              "\n",
              "    [theme=dark] .colab-df-convert {\n",
              "      background-color: #3B4455;\n",
              "      fill: #D2E3FC;\n",
              "    }\n",
              "\n",
              "    [theme=dark] .colab-df-convert:hover {\n",
              "      background-color: #434B5C;\n",
              "      box-shadow: 0px 1px 3px 1px rgba(0, 0, 0, 0.15);\n",
              "      filter: drop-shadow(0px 1px 2px rgba(0, 0, 0, 0.3));\n",
              "      fill: #FFFFFF;\n",
              "    }\n",
              "  </style>\n",
              "\n",
              "      <script>\n",
              "        const buttonEl =\n",
              "          document.querySelector('#df-7bad1f19-f8ab-4bed-9c56-f8a608537003 button.colab-df-convert');\n",
              "        buttonEl.style.display =\n",
              "          google.colab.kernel.accessAllowed ? 'block' : 'none';\n",
              "\n",
              "        async function convertToInteractive(key) {\n",
              "          const element = document.querySelector('#df-7bad1f19-f8ab-4bed-9c56-f8a608537003');\n",
              "          const dataTable =\n",
              "            await google.colab.kernel.invokeFunction('convertToInteractive',\n",
              "                                                     [key], {});\n",
              "          if (!dataTable) return;\n",
              "\n",
              "          const docLinkHtml = 'Like what you see? Visit the ' +\n",
              "            '<a target=\"_blank\" href=https://colab.research.google.com/notebooks/data_table.ipynb>data table notebook</a>'\n",
              "            + ' to learn more about interactive tables.';\n",
              "          element.innerHTML = '';\n",
              "          dataTable['output_type'] = 'display_data';\n",
              "          await google.colab.output.renderOutput(dataTable, element);\n",
              "          const docLink = document.createElement('div');\n",
              "          docLink.innerHTML = docLinkHtml;\n",
              "          element.appendChild(docLink);\n",
              "        }\n",
              "      </script>\n",
              "    </div>\n",
              "  </div>\n",
              "  "
            ]
          },
          "metadata": {},
          "execution_count": 65
        }
      ]
    },
    {
      "cell_type": "code",
      "source": [
        "#getting the pairs with highest correlation\n",
        "s = correlation_Matrix.unstack()\n",
        "so = s.sort_values(kind=\"quicksort\")\n",
        "so[-20:-11]"
      ],
      "metadata": {
        "colab": {
          "base_uri": "https://localhost:8080/"
        },
        "id": "W9hX4DjCACp-",
        "outputId": "4ec16c25-5187-4372-9588-cd601baaaf50"
      },
      "execution_count": 66,
      "outputs": [
        {
          "output_type": "execute_result",
          "data": {
            "text/plain": [
              "total_bedrooms  population        0.877340\n",
              "households      population        0.906841\n",
              "population      households        0.906841\n",
              "households      total_rooms       0.921441\n",
              "total_rooms     households        0.921441\n",
              "total_bedrooms  total_rooms       0.931546\n",
              "total_rooms     total_bedrooms    0.931546\n",
              "households      total_bedrooms    0.979399\n",
              "total_bedrooms  households        0.979399\n",
              "dtype: float64"
            ]
          },
          "metadata": {},
          "execution_count": 66
        }
      ]
    },
    {
      "cell_type": "code",
      "source": [
        "#calulating the categorical values\n",
        "Y_cat = (Y_train> Y_train.mean()) .astype(int)\n"
      ],
      "metadata": {
        "id": "MLd52PFuA60e"
      },
      "execution_count": 67,
      "outputs": []
    },
    {
      "cell_type": "code",
      "source": [
        "#Calculating the mutual information\n",
        "round(mutual_info_score(Y_cat, X_train['ocean_proximity']),2)"
      ],
      "metadata": {
        "colab": {
          "base_uri": "https://localhost:8080/"
        },
        "id": "R-t1ild8DMJa",
        "outputId": "ab3e79e3-6ad7-4e84-dbc5-83fe7a5a355b"
      },
      "execution_count": 68,
      "outputs": [
        {
          "output_type": "execute_result",
          "data": {
            "text/plain": [
              "0.1"
            ]
          },
          "metadata": {},
          "execution_count": 68
        }
      ]
    },
    {
      "cell_type": "code",
      "source": [
        "#Decoding the daata (Categorical Variable)\n",
        "dv = DictVectorizer(sparse=False)\n",
        "\n",
        "X_train_decoded = X_train.to_dict(orient='records')\n",
        "X_train_decoded= dv.fit_transform(X_train_decoded)\n",
        "X_train_decoded\n"
      ],
      "metadata": {
        "colab": {
          "base_uri": "https://localhost:8080/"
        },
        "id": "U6BkgmzlGJqU",
        "outputId": "7ba5db46-a27d-48b4-8b18-f48da4cdd0d9"
      },
      "execution_count": 69,
      "outputs": [
        {
          "output_type": "execute_result",
          "data": {
            "text/plain": [
              "array([[2.59713701e-01, 3.74000000e+02, 3.90000000e+01, ...,\n",
              "        3.92245989e+00, 3.81000000e+02, 1.46700000e+03],\n",
              "       [1.30227981e-01, 8.06000000e+02, 2.40000000e+01, ...,\n",
              "        7.56451613e+00, 7.94000000e+02, 6.09700000e+03],\n",
              "       [2.34624146e-01, 3.37000000e+02, 4.10000000e+01, ...,\n",
              "        3.90801187e+00, 3.09000000e+02, 1.31700000e+03],\n",
              "       ...,\n",
              "       [1.82879377e-01, 6.02000000e+02, 1.80000000e+01, ...,\n",
              "        5.54983389e+00, 6.11000000e+02, 3.34100000e+03],\n",
              "       [2.29126214e-01, 3.50000000e+02, 1.60000000e+01, ...,\n",
              "        4.41428571e+00, 3.54000000e+02, 1.54500000e+03],\n",
              "       [2.09574468e-01, 2.15000000e+02, 3.50000000e+01, ...,\n",
              "        4.37209302e+00, 1.97000000e+02, 9.40000000e+02]])"
            ]
          },
          "metadata": {},
          "execution_count": 69
        }
      ]
    },
    {
      "cell_type": "code",
      "source": [
        "#fitting the logistic regression model\n",
        "model = LogisticRegression(solver=\"liblinear\", C=1.0, max_iter=1000, random_state=42)\n",
        "model.fit(X_train_decoded,Y_cat)"
      ],
      "metadata": {
        "colab": {
          "base_uri": "https://localhost:8080/"
        },
        "id": "b2blbEL2HOl1",
        "outputId": "45f1594b-48a5-43cd-ad97-527d8c94c794"
      },
      "execution_count": 70,
      "outputs": [
        {
          "output_type": "execute_result",
          "data": {
            "text/plain": [
              "LogisticRegression(max_iter=1000, random_state=42, solver='liblinear')"
            ]
          },
          "metadata": {},
          "execution_count": 70
        }
      ]
    },
    {
      "cell_type": "code",
      "source": [
        "#testing the model on the validation\n",
        "#Prepare the validation dataset\n",
        "Y_cat_val = (Y_val> Y_val.mean()) .astype(int)\n",
        "X_val_decoded = X_val.to_dict(orient='records')\n",
        "X_val_decoded= dv.transform(X_val_decoded)\n"
      ],
      "metadata": {
        "id": "3AkjmuVdINLw"
      },
      "execution_count": 71,
      "outputs": []
    },
    {
      "cell_type": "code",
      "source": [
        "#Calculating the accuracy\n",
        "round(model.score(X_val_decoded, Y_cat_val),2)"
      ],
      "metadata": {
        "colab": {
          "base_uri": "https://localhost:8080/"
        },
        "id": "TeZJ2t3CINRJ",
        "outputId": "b5b08442-025d-45c4-b98f-a9a1cc50ee8a"
      },
      "execution_count": 72,
      "outputs": [
        {
          "output_type": "execute_result",
          "data": {
            "text/plain": [
              "0.84"
            ]
          },
          "metadata": {},
          "execution_count": 72
        }
      ]
    },
    {
      "cell_type": "code",
      "source": [
        "#Question 5\n",
        "Columns=X_train.columns\n",
        "error=[]\n",
        "deleted_col=[]\n",
        "# exclude each feature from this set and train a model without it\n",
        "for i in range(len(Columns)):\n",
        "  deleted_col.append(Columns[i])\n",
        "  Selected_Col=[]\n",
        "  for j in range(len(Columns)):\n",
        "    if j!=i:\n",
        "      Selected_Col.append(Columns[j])\n",
        "  X_full_train, X_test,Y_full_train,Y_test = train_test_split(X,Y, test_size=0.2, random_state=42)\n",
        "  X_train,X_val,Y_train,Y_val = train_test_split(X_full_train,Y_full_train, test_size=0.25, random_state=42)\n",
        "  dicts_train_small = X_train[Selected_Col].to_dict(orient='records')\n",
        "  dicts_val_small = X_val[Selected_Col].to_dict(orient='records')\n",
        "  dv_small = DictVectorizer(sparse=False)\n",
        "  dv_small.fit(dicts_train_small)\n",
        "  X_train_small = dv_small.transform(dicts_train_small)\n",
        "  X_val_small=dv_small.transform(dicts_val_small)\n",
        "  model_small = LogisticRegression(solver='lbfgs')\n",
        "  #calculate the difference between the original accuracy and the accuracy without the feature\n",
        "  model_small.fit(X_train_small, Y_cat)\n",
        "  model_small.score(X_val_small, Y_cat_val)\n",
        "  error.append(abs(model_small.score(X_val_small, Y_cat_val)-0.84))\n",
        "\n",
        "      \n",
        "  \n"
      ],
      "metadata": {
        "colab": {
          "base_uri": "https://localhost:8080/"
        },
        "id": "39GE85ca__oC",
        "outputId": "8c07615b-034e-4251-f9d5-98e24aa5092e"
      },
      "execution_count": 73,
      "outputs": [
        {
          "output_type": "stream",
          "name": "stderr",
          "text": [
            "/usr/local/lib/python3.7/dist-packages/sklearn/linear_model/_logistic.py:818: ConvergenceWarning: lbfgs failed to converge (status=1):\n",
            "STOP: TOTAL NO. of ITERATIONS REACHED LIMIT.\n",
            "\n",
            "Increase the number of iterations (max_iter) or scale the data as shown in:\n",
            "    https://scikit-learn.org/stable/modules/preprocessing.html\n",
            "Please also refer to the documentation for alternative solver options:\n",
            "    https://scikit-learn.org/stable/modules/linear_model.html#logistic-regression\n",
            "  extra_warning_msg=_LOGISTIC_SOLVER_CONVERGENCE_MSG,\n",
            "/usr/local/lib/python3.7/dist-packages/sklearn/linear_model/_logistic.py:818: ConvergenceWarning: lbfgs failed to converge (status=1):\n",
            "STOP: TOTAL NO. of ITERATIONS REACHED LIMIT.\n",
            "\n",
            "Increase the number of iterations (max_iter) or scale the data as shown in:\n",
            "    https://scikit-learn.org/stable/modules/preprocessing.html\n",
            "Please also refer to the documentation for alternative solver options:\n",
            "    https://scikit-learn.org/stable/modules/linear_model.html#logistic-regression\n",
            "  extra_warning_msg=_LOGISTIC_SOLVER_CONVERGENCE_MSG,\n",
            "/usr/local/lib/python3.7/dist-packages/sklearn/linear_model/_logistic.py:818: ConvergenceWarning: lbfgs failed to converge (status=1):\n",
            "STOP: TOTAL NO. of ITERATIONS REACHED LIMIT.\n",
            "\n",
            "Increase the number of iterations (max_iter) or scale the data as shown in:\n",
            "    https://scikit-learn.org/stable/modules/preprocessing.html\n",
            "Please also refer to the documentation for alternative solver options:\n",
            "    https://scikit-learn.org/stable/modules/linear_model.html#logistic-regression\n",
            "  extra_warning_msg=_LOGISTIC_SOLVER_CONVERGENCE_MSG,\n",
            "/usr/local/lib/python3.7/dist-packages/sklearn/linear_model/_logistic.py:818: ConvergenceWarning: lbfgs failed to converge (status=1):\n",
            "STOP: TOTAL NO. of ITERATIONS REACHED LIMIT.\n",
            "\n",
            "Increase the number of iterations (max_iter) or scale the data as shown in:\n",
            "    https://scikit-learn.org/stable/modules/preprocessing.html\n",
            "Please also refer to the documentation for alternative solver options:\n",
            "    https://scikit-learn.org/stable/modules/linear_model.html#logistic-regression\n",
            "  extra_warning_msg=_LOGISTIC_SOLVER_CONVERGENCE_MSG,\n",
            "/usr/local/lib/python3.7/dist-packages/sklearn/linear_model/_logistic.py:818: ConvergenceWarning: lbfgs failed to converge (status=1):\n",
            "STOP: TOTAL NO. of ITERATIONS REACHED LIMIT.\n",
            "\n",
            "Increase the number of iterations (max_iter) or scale the data as shown in:\n",
            "    https://scikit-learn.org/stable/modules/preprocessing.html\n",
            "Please also refer to the documentation for alternative solver options:\n",
            "    https://scikit-learn.org/stable/modules/linear_model.html#logistic-regression\n",
            "  extra_warning_msg=_LOGISTIC_SOLVER_CONVERGENCE_MSG,\n",
            "/usr/local/lib/python3.7/dist-packages/sklearn/linear_model/_logistic.py:818: ConvergenceWarning: lbfgs failed to converge (status=1):\n",
            "STOP: TOTAL NO. of ITERATIONS REACHED LIMIT.\n",
            "\n",
            "Increase the number of iterations (max_iter) or scale the data as shown in:\n",
            "    https://scikit-learn.org/stable/modules/preprocessing.html\n",
            "Please also refer to the documentation for alternative solver options:\n",
            "    https://scikit-learn.org/stable/modules/linear_model.html#logistic-regression\n",
            "  extra_warning_msg=_LOGISTIC_SOLVER_CONVERGENCE_MSG,\n",
            "/usr/local/lib/python3.7/dist-packages/sklearn/linear_model/_logistic.py:818: ConvergenceWarning: lbfgs failed to converge (status=1):\n",
            "STOP: TOTAL NO. of ITERATIONS REACHED LIMIT.\n",
            "\n",
            "Increase the number of iterations (max_iter) or scale the data as shown in:\n",
            "    https://scikit-learn.org/stable/modules/preprocessing.html\n",
            "Please also refer to the documentation for alternative solver options:\n",
            "    https://scikit-learn.org/stable/modules/linear_model.html#logistic-regression\n",
            "  extra_warning_msg=_LOGISTIC_SOLVER_CONVERGENCE_MSG,\n",
            "/usr/local/lib/python3.7/dist-packages/sklearn/linear_model/_logistic.py:818: ConvergenceWarning: lbfgs failed to converge (status=1):\n",
            "STOP: TOTAL NO. of ITERATIONS REACHED LIMIT.\n",
            "\n",
            "Increase the number of iterations (max_iter) or scale the data as shown in:\n",
            "    https://scikit-learn.org/stable/modules/preprocessing.html\n",
            "Please also refer to the documentation for alternative solver options:\n",
            "    https://scikit-learn.org/stable/modules/linear_model.html#logistic-regression\n",
            "  extra_warning_msg=_LOGISTIC_SOLVER_CONVERGENCE_MSG,\n",
            "/usr/local/lib/python3.7/dist-packages/sklearn/linear_model/_logistic.py:818: ConvergenceWarning: lbfgs failed to converge (status=1):\n",
            "STOP: TOTAL NO. of ITERATIONS REACHED LIMIT.\n",
            "\n",
            "Increase the number of iterations (max_iter) or scale the data as shown in:\n",
            "    https://scikit-learn.org/stable/modules/preprocessing.html\n",
            "Please also refer to the documentation for alternative solver options:\n",
            "    https://scikit-learn.org/stable/modules/linear_model.html#logistic-regression\n",
            "  extra_warning_msg=_LOGISTIC_SOLVER_CONVERGENCE_MSG,\n",
            "/usr/local/lib/python3.7/dist-packages/sklearn/linear_model/_logistic.py:818: ConvergenceWarning: lbfgs failed to converge (status=1):\n",
            "STOP: TOTAL NO. of ITERATIONS REACHED LIMIT.\n",
            "\n",
            "Increase the number of iterations (max_iter) or scale the data as shown in:\n",
            "    https://scikit-learn.org/stable/modules/preprocessing.html\n",
            "Please also refer to the documentation for alternative solver options:\n",
            "    https://scikit-learn.org/stable/modules/linear_model.html#logistic-regression\n",
            "  extra_warning_msg=_LOGISTIC_SOLVER_CONVERGENCE_MSG,\n",
            "/usr/local/lib/python3.7/dist-packages/sklearn/linear_model/_logistic.py:818: ConvergenceWarning: lbfgs failed to converge (status=1):\n",
            "STOP: TOTAL NO. of ITERATIONS REACHED LIMIT.\n",
            "\n",
            "Increase the number of iterations (max_iter) or scale the data as shown in:\n",
            "    https://scikit-learn.org/stable/modules/preprocessing.html\n",
            "Please also refer to the documentation for alternative solver options:\n",
            "    https://scikit-learn.org/stable/modules/linear_model.html#logistic-regression\n",
            "  extra_warning_msg=_LOGISTIC_SOLVER_CONVERGENCE_MSG,\n",
            "/usr/local/lib/python3.7/dist-packages/sklearn/linear_model/_logistic.py:818: ConvergenceWarning: lbfgs failed to converge (status=1):\n",
            "STOP: TOTAL NO. of ITERATIONS REACHED LIMIT.\n",
            "\n",
            "Increase the number of iterations (max_iter) or scale the data as shown in:\n",
            "    https://scikit-learn.org/stable/modules/preprocessing.html\n",
            "Please also refer to the documentation for alternative solver options:\n",
            "    https://scikit-learn.org/stable/modules/linear_model.html#logistic-regression\n",
            "  extra_warning_msg=_LOGISTIC_SOLVER_CONVERGENCE_MSG,\n"
          ]
        }
      ]
    },
    {
      "cell_type": "code",
      "source": [
        "deleted_col"
      ],
      "metadata": {
        "colab": {
          "base_uri": "https://localhost:8080/"
        },
        "id": "oRtgSBPeEO4m",
        "outputId": "b8ada5b4-fc0d-4254-bc0f-be1705dc506d"
      },
      "execution_count": 74,
      "outputs": [
        {
          "output_type": "execute_result",
          "data": {
            "text/plain": [
              "['latitude',\n",
              " 'longitude',\n",
              " 'housing_median_age',\n",
              " 'total_rooms',\n",
              " 'total_bedrooms',\n",
              " 'population',\n",
              " 'households',\n",
              " 'median_income',\n",
              " 'ocean_proximity',\n",
              " 'rooms_per_household',\n",
              " 'bedrooms_per_room',\n",
              " 'population_per_household']"
            ]
          },
          "metadata": {},
          "execution_count": 74
        }
      ]
    },
    {
      "cell_type": "code",
      "source": [
        "error"
      ],
      "metadata": {
        "colab": {
          "base_uri": "https://localhost:8080/"
        },
        "id": "EpL-0sB9__1M",
        "outputId": "f5d0f489-6490-4d53-ecf7-5b30340a711b"
      },
      "execution_count": 26,
      "outputs": [
        {
          "output_type": "execute_result",
          "data": {
            "text/plain": [
              "[-0.017567829457364348,\n",
              " -0.017325581395348788,\n",
              " -0.04324612403100769,\n",
              " -0.011996124031007693,\n",
              " -0.012480620155038702,\n",
              " -0.032102713178294495,\n",
              " -0.00957364341085265,\n",
              " -0.08491279069767443,\n",
              " -0.03985465116279063,\n",
              " -0.031133720930232478,\n",
              " -0.03670542635658913,\n",
              " -0.036220930232558124]"
            ]
          },
          "metadata": {},
          "execution_count": 26
        }
      ]
    },
    {
      "cell_type": "code",
      "source": [
        "# feature has the smallest difference\n",
        "minimum_index=error.index(min(error))\n",
        "deleted_col[minimum_index]"
      ],
      "metadata": {
        "colab": {
          "base_uri": "https://localhost:8080/",
          "height": 35
        },
        "id": "Ub55MisyF0n4",
        "outputId": "8abb2d6b-23e4-4ca7-e147-e25bec9d39f5"
      },
      "execution_count": 76,
      "outputs": [
        {
          "output_type": "execute_result",
          "data": {
            "text/plain": [
              "'households'"
            ],
            "application/vnd.google.colaboratory.intrinsic+json": {
              "type": "string"
            }
          },
          "metadata": {},
          "execution_count": 76
        }
      ]
    },
    {
      "cell_type": "code",
      "source": [
        "\n",
        "#Question6 Ridge Regression\n",
        "#Calculate the np log\n",
        "Y_train=np.log1p(Y_train)\n",
        "Y_val=np.log1p(Y_val)"
      ],
      "metadata": {
        "id": "4cozAVYhLdAx"
      },
      "execution_count": 77,
      "outputs": []
    },
    {
      "cell_type": "code",
      "source": [
        "alpha=np.array([0, 0.01, 0.1, 1, 10])\n",
        "Error=np.zeros((5))\n",
        "for i in range(len(alpha)):\n",
        "  model = Ridge(alpha=alpha[i], solver=\"sag\", random_state=42)\n",
        "  model.fit(X_train_decoded,Y_train)\n",
        "  Y_pred=model.predict(X_val_decoded)\n",
        "  Error[i]=round(rmse(Y_pred,Y_val),3)\n"
      ],
      "metadata": {
        "id": "Cj9ZCoY6J8kq"
      },
      "execution_count": 78,
      "outputs": []
    },
    {
      "cell_type": "code",
      "source": [
        "Error"
      ],
      "metadata": {
        "colab": {
          "base_uri": "https://localhost:8080/"
        },
        "id": "-Uiyspr1Mm-Z",
        "outputId": "5c435075-4c6f-4464-b871-63d03f06215a"
      },
      "execution_count": 79,
      "outputs": [
        {
          "output_type": "execute_result",
          "data": {
            "text/plain": [
              "array([0.524, 0.524, 0.524, 0.524, 0.524])"
            ]
          },
          "metadata": {},
          "execution_count": 79
        }
      ]
    }
  ]
}